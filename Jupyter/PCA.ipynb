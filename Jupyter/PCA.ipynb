{
 "cells": [
  {
   "cell_type": "markdown",
   "metadata": {},
   "source": [
    "# PCA"
   ]
  },
  {
   "cell_type": "code",
   "execution_count": 1,
   "metadata": {},
   "outputs": [],
   "source": [
    "import pandas as pd\n",
    "import numpy as np\n",
    "import sklearn\n",
    "import os\n",
    "import matplotlib.pyplot as plt\n",
    "import time"
   ]
  },
  {
   "cell_type": "markdown",
   "metadata": {},
   "source": [
    "## 数据预处理"
   ]
  },
  {
   "cell_type": "code",
   "execution_count": 2,
   "metadata": {},
   "outputs": [
    {
     "name": "stdout",
     "output_type": "stream",
     "text": [
      "Dimensions of the Training set: (125973, 42)\n",
      "Dimensions of the Test set: (22544, 42)\n"
     ]
    }
   ],
   "source": [
    "# 加载数据库的列名\n",
    "col_names = [\"duration\",\"protocol_type\",\"service\",\"flag\",\"src_bytes\",\n",
    "    \"dst_bytes\",\"land\",\"wrong_fragment\",\"urgent\",\"hot\",\"num_failed_logins\",\n",
    "    \"logged_in\",\"num_compromised\",\"root_shell\",\"su_attempted\",\"num_root\",\n",
    "    \"num_file_creations\",\"num_shells\",\"num_access_files\",\"num_outbound_cmds\",\n",
    "    \"is_host_login\",\"is_guest_login\",\"count\",\"srv_count\",\"serror_rate\",\n",
    "    \"srv_serror_rate\",\"rerror_rate\",\"srv_rerror_rate\",\"same_srv_rate\",\n",
    "    \"diff_srv_rate\",\"srv_diff_host_rate\",\"dst_host_count\",\"dst_host_srv_count\",\n",
    "    \"dst_host_same_srv_rate\",\"dst_host_diff_srv_rate\",\"dst_host_same_src_port_rate\",\n",
    "    \"dst_host_srv_diff_host_rate\",\"dst_host_serror_rate\",\"dst_host_srv_serror_rate\",\n",
    "    \"dst_host_rerror_rate\",\"dst_host_srv_rerror_rate\",\"label\",\"difficulty_level\"]\n",
    "\n",
    "# 加载训练集和测试集\n",
    "train_path=r\"F:\\Jupyter\\kaggle\\data\\NSL-KDD\\KDDTrain+.txt\"\n",
    "test_path=r\"F:\\Jupyter\\kaggle\\data\\NSL-KDD\\KDDTest+.txt\"\n",
    "df = pd.read_csv(train_path, header=None, names = col_names)\n",
    "df_test = pd.read_csv(test_path, header=None, names = col_names)\n",
    "df.drop('difficulty_level',inplace=True,axis=1)\n",
    "df_test.drop('difficulty_level',inplace=True,axis=1)\n",
    "\n",
    "#数据集的shape\n",
    "print('Dimensions of the Training set:',df.shape)\n",
    "print('Dimensions of the Test set:',df_test.shape)"
   ]
  },
  {
   "cell_type": "code",
   "execution_count": 3,
   "metadata": {},
   "outputs": [],
   "source": [
    "#df_categorical_values————存储了包含'protocol_type'，'service'和'flag'。的训练集数据\n",
    "#testdf_categorical_values——'protocol_type'，'service'和'flag'的测试集数据\n",
    "from sklearn.preprocessing import LabelEncoder,OneHotEncoder\n",
    "\n",
    "\n",
    "categorical_columns=['protocol_type', 'service', 'flag'] \n",
    "#将这三个离散特征分离出来\n",
    "df_categorical_values = df[categorical_columns]\n",
    "testdf_categorical_values = df_test[categorical_columns]\n"
   ]
  },
  {
   "cell_type": "code",
   "execution_count": 4,
   "metadata": {},
   "outputs": [
    {
     "name": "stdout",
     "output_type": "stream",
     "text": [
      "['Protocol_type_icmp', 'Protocol_type_tcp', 'Protocol_type_udp', 'service_IRC', 'service_X11', 'service_Z39_50', 'service_aol', 'service_auth', 'service_bgp', 'service_courier', 'service_csnet_ns', 'service_ctf', 'service_daytime', 'service_discard', 'service_domain', 'service_domain_u', 'service_echo', 'service_eco_i', 'service_ecr_i', 'service_efs', 'service_exec', 'service_finger', 'service_ftp', 'service_ftp_data', 'service_gopher', 'service_harvest', 'service_hostnames', 'service_http', 'service_http_2784', 'service_http_443', 'service_http_8001', 'service_imap4', 'service_iso_tsap', 'service_klogin', 'service_kshell', 'service_ldap', 'service_link', 'service_login', 'service_mtp', 'service_name', 'service_netbios_dgm', 'service_netbios_ns', 'service_netbios_ssn', 'service_netstat', 'service_nnsp', 'service_nntp', 'service_ntp_u', 'service_other', 'service_pm_dump', 'service_pop_2', 'service_pop_3', 'service_printer', 'service_private', 'service_red_i', 'service_remote_job', 'service_rje', 'service_shell', 'service_smtp', 'service_sql_net', 'service_ssh', 'service_sunrpc', 'service_supdup', 'service_systat', 'service_telnet', 'service_tftp_u', 'service_tim_i', 'service_time', 'service_urh_i', 'service_urp_i', 'service_uucp', 'service_uucp_path', 'service_vmnet', 'service_whois', 'flag_OTH', 'flag_REJ', 'flag_RSTO', 'flag_RSTOS0', 'flag_RSTR', 'flag_S0', 'flag_S1', 'flag_S2', 'flag_S3', 'flag_SF', 'flag_SH']\n"
     ]
    }
   ],
   "source": [
    "# protocol type\n",
    "unique_protocol=sorted(df.protocol_type.unique())\n",
    "string1 = 'Protocol_type_'\n",
    "unique_protocol2=[string1 + x for x in unique_protocol]\n",
    "# service\n",
    "unique_service=sorted(df.service.unique())\n",
    "string2 = 'service_'\n",
    "unique_service2=[string2 + x for x in unique_service]\n",
    "# flag\n",
    "unique_flag=sorted(df.flag.unique())\n",
    "string3 = 'flag_'\n",
    "unique_flag2=[string3 + x for x in unique_flag]\n",
    "# 合并\n",
    "dumcols=unique_protocol2 + unique_service2 + unique_flag2\n",
    "print(dumcols)\n",
    "\n",
    "#同理于测试集，由于测试集和训练集只有service有区别，所以只要对service特别处理\n",
    "unique_service_test=sorted(df_test.service.unique())\n",
    "unique_service2_test=[string2 + x for x in unique_service_test]\n",
    "testdumcols=unique_protocol2 + unique_service2_test + unique_flag2"
   ]
  },
  {
   "cell_type": "code",
   "execution_count": 5,
   "metadata": {},
   "outputs": [
    {
     "name": "stdout",
     "output_type": "stream",
     "text": [
      "   protocol_type  service  flag\n",
      "0              1       20     9\n",
      "1              2       44     9\n",
      "2              1       49     5\n",
      "3              1       24     9\n",
      "4              1       24     9\n"
     ]
    }
   ],
   "source": [
    "#df_categorical_values_enc————将dumcols中的类别标签转换为数值。\n",
    "#testdf_categorical_values_enc同理\n",
    "df_categorical_values_enc=df_categorical_values.apply(LabelEncoder().fit_transform)\n",
    "print(df_categorical_values_enc.head())\n",
    "# test set\n",
    "testdf_categorical_values_enc=testdf_categorical_values.apply(LabelEncoder().fit_transform)"
   ]
  },
  {
   "cell_type": "code",
   "execution_count": 6,
   "metadata": {},
   "outputs": [],
   "source": [
    "# df_cat_data----训练集每一行对于提取出来的每个特征作为列向量，若有这个特征就把值设为1，没有就是0\n",
    "# testdf_cat_data\n",
    "\n",
    "\n",
    "enc = OneHotEncoder()\n",
    "df_categorical_values_encenc = enc.fit_transform(df_categorical_values_enc)\n",
    "df_cat_data = pd.DataFrame(df_categorical_values_encenc.toarray(),columns=dumcols)\n",
    "# test set\n",
    "testdf_categorical_values_encenc = enc.fit_transform(testdf_categorical_values_enc)\n",
    "testdf_cat_data = pd.DataFrame(testdf_categorical_values_encenc.toarray(),columns=testdumcols)\n",
    "\n"
   ]
  },
  {
   "cell_type": "code",
   "execution_count": 7,
   "metadata": {},
   "outputs": [
    {
     "name": "stdout",
     "output_type": "stream",
     "text": [
      "['http_8001', 'http_2784', 'urh_i', 'red_i', 'aol', 'harvest']\n",
      "[]\n"
     ]
    }
   ],
   "source": [
    "trainservice = df['service'].tolist()\n",
    "testservice = df_test['service'].tolist()\n",
    "\n",
    "train_difference = list(set(trainservice) - set(testservice))\n",
    "test_difference = list(set(testservice) - set(trainservice))\n",
    "\n",
    "print(train_difference)\n",
    "print(test_difference)\n",
    "\n",
    "string = 'service_'\n",
    "train_difference = [string + x for x in train_difference]\n",
    "test_difference = [string + x for x in test_difference]"
   ]
  },
  {
   "cell_type": "code",
   "execution_count": 8,
   "metadata": {},
   "outputs": [],
   "source": [
    "for col in train_difference:\n",
    "    testdf_cat_data[col] = 0\n",
    "\n",
    "for col in test_difference:\n",
    "    df_cat_data[col] = 0"
   ]
  },
  {
   "cell_type": "code",
   "execution_count": 9,
   "metadata": {},
   "outputs": [
    {
     "name": "stdout",
     "output_type": "stream",
     "text": [
      "(125973, 123)\n",
      "(22544, 123)\n"
     ]
    }
   ],
   "source": [
    "newdf=df.join(df_cat_data)\n",
    "newdf.drop('flag', axis=1, inplace=True)\n",
    "newdf.drop('protocol_type', axis=1, inplace=True)\n",
    "newdf.drop('service', axis=1, inplace=True)\n",
    "# test data\n",
    "newdf_test=df_test.join(testdf_cat_data)\n",
    "newdf_test.drop('flag', axis=1, inplace=True)\n",
    "newdf_test.drop('protocol_type', axis=1, inplace=True)\n",
    "newdf_test.drop('service', axis=1, inplace=True)\n",
    "print(newdf.shape)\n",
    "print(newdf_test.shape)"
   ]
  },
  {
   "cell_type": "code",
   "execution_count": 10,
   "metadata": {},
   "outputs": [],
   "source": [
    "labeldf=newdf['label']\n",
    "labeldf_test=newdf_test['label']\n",
    "\n",
    "#把.洗掉\n",
    "labeldf = labeldf.str.rstrip('.')\n",
    "labeldf_test = labeldf_test.str.rstrip('.')\n",
    "newlabeldf=labeldf.replace({'normal':0,\n",
    "                            'neptune':1,'back': 1, 'land': 1, 'pod': 1, 'smurf': 1, 'teardrop': 1,'mailbomb': 1, 'apache2': 1, 'processtable': 1, 'udpstorm': 1, \n",
    "                             'ipsweep' : 2,'nmap' : 2,'portsweep' : 2,'satan' : 2,'mscan' : 2,'saint' : 2,\n",
    "                             'ftp_write': 3,'guess_passwd': 3,'imap': 3,'multihop': 3,'phf': 3,'spy': 3,'warezclient': 3,'warezmaster': 3,'sendmail': 3,'named': 3,'snmpgetattack': 3,'snmpguess': 3,'xlock': 3,'xsnoop': 3,'worm': 3,\n",
    "                             'httptunnel': 4,'buffer_overflow': 4,'loadmodule': 4,'perl': 4,'rootkit': 4,'ps': 4,'sqlattack': 4,'xterm': 4})\n",
    "newlabeldf_test=labeldf_test.replace({'normal' : 0,\n",
    "                             'neptune' : 1 ,'back': 1, 'land': 1, 'pod': 1, 'smurf': 1, 'teardrop': 1,'mailbomb': 1, 'apache2': 1, 'processtable': 1, 'udpstorm': 1, \n",
    "                             'ipsweep' : 2,'nmap' : 2,'portsweep' : 2,'satan' : 2,'mscan' : 2,'saint' : 2,\n",
    "                             'ftp_write': 3,'guess_passwd': 3,'imap': 3,'multihop': 3,'phf': 3,'spy': 3,'warezclient': 3,'warezmaster': 3,'sendmail': 3,'named': 3,'snmpgetattack': 3,'snmpguess': 3,'xlock': 3,'xsnoop': 3,'worm': 3,\n",
    "                             'httptunnel': 4,'buffer_overflow': 4,'loadmodule': 4,'perl': 4,'rootkit': 4,'ps': 4,'sqlattack': 4,'xterm': 4})\n",
    "\n",
    "newdf['label'] = newlabeldf\n",
    "newdf_test['label'] = newlabeldf_test\n",
    "# print(newdf['label'].tail())"
   ]
  },
  {
   "cell_type": "code",
   "execution_count": 11,
   "metadata": {},
   "outputs": [
    {
     "name": "stdout",
     "output_type": "stream",
     "text": [
      "Dimensions of PCA: (125973, 123)\n",
      "Dimensions of PCA: (22544, 123)\n"
     ]
    }
   ],
   "source": [
    "print('Dimensions of PCA:' ,newdf.shape)\n",
    "print('Dimensions of PCA:' ,newdf_test.shape)"
   ]
  },
  {
   "cell_type": "code",
   "execution_count": 12,
   "metadata": {},
   "outputs": [
    {
     "name": "stdout",
     "output_type": "stream",
     "text": [
      "column列表中的项数为: 35\n"
     ]
    }
   ],
   "source": [
    "combined_features_list=['duration',\n",
    " 'Protocol_type_udp',\n",
    " 'dst_host_srv_diff_host_rate',\n",
    " 'Protocol_type_tcp',\n",
    " 'flag_S0',\n",
    " 'dst_host_diff_srv_rate',\n",
    " 'dst_host_rerror_rate',\n",
    " 'logged_in',\n",
    " 'dst_host_same_src_port_rate',\n",
    " 'src_bytes',\n",
    " 'rerror_rate',\n",
    " 'service_http',\n",
    " 'count',\n",
    " 'Protocol_type_icmp',\n",
    " 'dst_host_same_srv_rate',\n",
    " 'is_guest_login',\n",
    " 'srv_count',\n",
    " 'dst_host_srv_count',\n",
    " 'service_ecr_i',\n",
    " 'dst_host_srv_rerror_rate',\n",
    " 'srv_serror_rate',\n",
    " 'dst_bytes',\n",
    " 'dst_host_count',\n",
    " 'dst_host_serror_rate',\n",
    " 'service_eco_i',\n",
    " 'same_srv_rate',\n",
    " 'service_finger',\n",
    " 'srv_diff_host_rate',\n",
    " 'wrong_fragment',\n",
    " 'dst_host_srv_serror_rate',\n",
    " 'service_domain_u',\n",
    " 'service_private',\n",
    " 'service_smtp',\n",
    " 'hot',\n",
    " 'num_compromised']\n",
    "# 计算列表长度\n",
    "num_items = len(combined_features_list)\n",
    "\n",
    "# 输出列表中的项数\n",
    "print(\"column列表中的项数为:\", num_items)\n"
   ]
  },
  {
   "cell_type": "code",
   "execution_count": 13,
   "metadata": {},
   "outputs": [],
   "source": [
    "# 将数据集分割为特征（X）和目标变量（Y）\n",
    "# assign X as a dataframe of feautures and Y as a series of outcome variables\n",
    "X = newdf[combined_features_list]\n",
    "Y = newdf.label\n",
    "\n",
    "X_test = newdf_test[combined_features_list]\n",
    "Y_test = newdf_test.label\n",
    "#colNames 就是一个包含 X 中所有列名称的列表\n",
    "colNames=list(X)\n",
    "colNames_test=list(X_test)"
   ]
  },
  {
   "cell_type": "code",
   "execution_count": 14,
   "metadata": {},
   "outputs": [],
   "source": [
    "from sklearn import preprocessing\n",
    "#全部特征\n",
    "scaler1 = preprocessing.StandardScaler().fit(X)\n",
    "X=scaler1.transform(X) \n",
    "\n",
    "scaler2 = preprocessing.StandardScaler().fit(X_test)\n",
    "X_test=scaler2.transform(X_test) "
   ]
  },
  {
   "cell_type": "code",
   "execution_count": 15,
   "metadata": {},
   "outputs": [],
   "source": [
    "from sklearn.decomposition import PCA\n",
    "\n",
    "pca = PCA()\n",
    "X_pca = pca.fit_transform(X)"
   ]
  },
  {
   "cell_type": "code",
   "execution_count": 16,
   "metadata": {},
   "outputs": [
    {
     "data": {
      "text/plain": [
       "array([2.19650334e-01, 1.17262721e-01, 1.09703775e-01, 8.35602618e-02,\n",
       "       5.54897974e-02, 5.32682726e-02, 3.80096130e-02, 3.61226908e-02,\n",
       "       3.15962821e-02, 2.91644442e-02, 2.86032760e-02, 2.85436496e-02,\n",
       "       2.78391609e-02, 2.12686533e-02, 1.83877711e-02, 1.70499665e-02,\n",
       "       1.56786349e-02, 1.38430302e-02, 9.97760780e-03, 9.08065711e-03,\n",
       "       7.98938103e-03, 6.00747897e-03, 4.53482239e-03, 3.96324127e-03,\n",
       "       2.56105999e-03, 2.27825312e-03, 2.11422809e-03, 1.56872888e-03,\n",
       "       1.35963347e-03, 1.08396351e-03, 9.70673693e-04, 6.71718878e-04,\n",
       "       4.83160690e-04, 3.13057026e-04, 1.83484971e-28])"
      ]
     },
     "execution_count": 16,
     "metadata": {},
     "output_type": "execute_result"
    }
   ],
   "source": [
    "# 每个主成分的贡献率\n",
    "er = pca.explained_variance_ratio_\n",
    "er"
   ]
  },
  {
   "cell_type": "code",
   "execution_count": 17,
   "metadata": {},
   "outputs": [
    {
     "name": "stdout",
     "output_type": "stream",
     "text": [
      "0.9999999999999999\n"
     ]
    }
   ],
   "source": [
    "print(pca.explained_variance_ratio_.sum())    # 降维后信息保留量"
   ]
  },
  {
   "cell_type": "code",
   "execution_count": 18,
   "metadata": {},
   "outputs": [
    {
     "data": {
      "image/png": "[encoded data removed]",
      "text/plain": [
       "<matplotlib.figure.Figure at 0x1dee317b898>"
      ]
     },
     "metadata": {
      "needs_background": "light"
     },
     "output_type": "display_data"
    }
   ],
   "source": [
    "plt.figure(figsize=(8, 6))\n",
    "\n",
    "# 绘制每个主成分的贡献率的条形图\n",
    "plt.bar(range(1, len(er) + 1), er, align='center', alpha=0.8)\n",
    "\n",
    "# 添加标题和标签\n",
    "plt.title(\"The contribution rate of each component\")\n",
    "plt.xlabel(\"component\")\n",
    "plt.ylabel(\"contribution\")\n",
    "\n",
    "# 显示图形\n",
    "plt.grid(True)\n",
    "plt.show()"
   ]
  },
  {
   "cell_type": "code",
   "execution_count": 26,
   "metadata": {},
   "outputs": [
    {
     "name": "stdout",
     "output_type": "stream",
     "text": [
      "主成分个数： 1 累积贡献率： 0.21965033374701476\n",
      "主成分个数： 2 累积贡献率： 0.3369130548061114\n",
      "主成分个数： 3 累积贡献率： 0.4466168295831661\n",
      "主成分个数： 4 累积贡献率： 0.5301770913775352\n",
      "主成分个数： 5 累积贡献率： 0.5856668887717553\n",
      "主成分个数： 6 累积贡献率： 0.6389351613772958\n",
      "主成分个数： 7 累积贡献率： 0.6769447744172179\n",
      "主成分个数： 8 累积贡献率： 0.7130674651988818\n",
      "主成分个数： 9 累积贡献率： 0.7446637472924716\n",
      "主成分个数： 10 累积贡献率： 0.7738281915326151\n",
      "主成分个数： 11 累积贡献率： 0.8024314675026609\n",
      "主成分个数： 12 累积贡献率： 0.8309751171445108\n",
      "主成分个数： 13 累积贡献率： 0.8588142780238522\n",
      "主成分个数： 14 累积贡献率： 0.8800829313207313\n",
      "主成分个数： 15 累积贡献率： 0.8984707024628237\n",
      "主成分个数： 16 累积贡献率： 0.9155206689471811\n",
      "主成分个数： 17 累积贡献率： 0.9311993038819925\n",
      "主成分个数： 18 累积贡献率： 0.9450423340717098\n",
      "主成分个数： 19 累积贡献率： 0.9550199418693225\n",
      "主成分个数： 20 累积贡献率： 0.9641005989839488\n",
      "主成分个数： 21 累积贡献率： 0.9720899800149182\n",
      "主成分个数： 22 累积贡献率： 0.9780974589833307\n",
      "主成分个数： 23 累积贡献率： 0.9826322813715043\n",
      "主成分个数： 24 累积贡献率： 0.9865955226449145\n",
      "主成分个数： 25 累积贡献率： 0.9891565826348443\n",
      "主成分个数： 26 累积贡献率： 0.9914348357584165\n",
      "主成分个数： 27 累积贡献率： 0.9935490638498405\n",
      "主成分个数： 28 累积贡献率： 0.9951177927306591\n",
      "主成分个数： 29 累积贡献率： 0.9964774262000619\n",
      "主成分个数： 30 累积贡献率： 0.9975613897139214\n",
      "主成分个数： 31 累积贡献率： 0.9985320634067909\n",
      "主成分个数： 32 累积贡献率： 0.9992037822843971\n",
      "主成分个数： 33 累积贡献率： 0.9996869429740469\n",
      "主成分个数： 34 累积贡献率： 0.9999999999999999\n",
      "主成分个数： 35 累积贡献率： 0.9999999999999999\n"
     ]
    }
   ],
   "source": [
    "for  i in range(1, 36):\n",
    "    print(\"主成分个数：\", i, \"累积贡献率：\", er[:i].sum())\n"
   ]
  },
  {
   "cell_type": "code",
   "execution_count": 27,
   "metadata": {},
   "outputs": [
    {
     "name": "stdout",
     "output_type": "stream",
     "text": [
      "累积贡献率超过0.9的主成分个数： 16\n",
      "主成分 1 的特征向量：[ 4.71827721e-03 -6.01667151e-02 -1.02310014e-01  1.06515863e-01\n",
      "  3.16542685e-01  8.08517170e-02  3.81867959e-02 -2.31408218e-01\n",
      " -1.06078473e-01  7.78415303e-05  4.05297401e-02 -2.03433561e-01\n",
      "  2.19630408e-01 -8.81712074e-02 -3.14037821e-01 -1.43849766e-02\n",
      " -5.11356637e-02 -2.78342521e-01 -3.17684507e-02  3.99068704e-02\n",
      "  3.16422271e-01  1.64892512e-04  2.10642991e-01  3.19015899e-01\n",
      " -8.93169147e-02 -3.29386207e-01  3.71756408e-02 -1.34334991e-01\n",
      " -3.42155914e-03  3.19205404e-01 -6.58971318e-02  1.71985351e-01\n",
      " -5.24229982e-02 -1.57912421e-02 -1.50371122e-03]\n",
      "主成分 2 的特征向量：[ 0.11376199  0.18720334  0.14578581 -0.31399663 -0.13404637  0.22556989\n",
      "  0.2722361  -0.30537835  0.27464544  0.00522574  0.26503095 -0.26103111\n",
      "  0.15120814  0.24707034 -0.1083887  -0.03331901  0.19212526 -0.16034944\n",
      "  0.16866208  0.2650098  -0.1354849   0.00658129  0.0448859  -0.13131154\n",
      "  0.17632843 -0.02749236 -0.01856016  0.04369247  0.06761115 -0.13199006\n",
      "  0.12228144  0.09391339 -0.07269674 -0.03514862 -0.0007812 ]\n",
      "主成分 3 的特征向量：[ 0.11032155 -0.18306871 -0.06747896  0.31192138 -0.14136045  0.18265011\n",
      "  0.37793781  0.11808214 -0.10729463  0.00846977  0.38795703  0.12795235\n",
      " -0.08749471 -0.24922108 -0.07620167  0.03180091 -0.2536591  -0.04352586\n",
      " -0.18054799  0.38978493 -0.13928861  0.00776329 -0.029609   -0.13819167\n",
      " -0.17077998 -0.035688   -0.01315342 -0.0750717  -0.02873463 -0.13995261\n",
      " -0.18641381  0.05813318  0.03606799  0.03129809  0.00429348]\n",
      "主成分 4 的特征向量：[ 3.53747420e-03 -3.60379467e-01  3.76822925e-01  1.20219870e-01\n",
      "  8.59092872e-02 -8.17157199e-03 -1.76934183e-02  1.28404543e-02\n",
      "  2.26904180e-01  1.50569572e-03 -7.03527015e-03 -1.68252845e-02\n",
      " -1.28366654e-01  2.82422433e-01 -3.56769078e-02  8.08653066e-05\n",
      " -2.43710459e-01 -1.56148676e-01 -3.91616480e-02 -7.83381152e-03\n",
      "  8.83234658e-02  9.59604288e-04 -2.68860800e-01  8.66290023e-02\n",
      "  3.99230665e-01 -3.77284518e-02  3.65133238e-02  2.80190230e-01\n",
      " -7.11125630e-02  8.66340464e-02 -3.56858811e-01 -5.42925869e-03\n",
      "  5.33015937e-02 -7.28485325e-04  3.47726392e-03]\n",
      "主成分 5 的特征向量：[ 7.57834715e-02  1.62543898e-01  1.24780291e-02 -7.81115577e-02\n",
      " -3.14606462e-02  1.05570589e-01 -8.20708579e-02  1.57668954e-02\n",
      "  4.26376050e-02  7.52888357e-03 -9.24328988e-02 -1.99945850e-01\n",
      " -1.71642756e-01 -8.99874222e-02 -1.21727104e-01  6.03763097e-01\n",
      " -1.50703754e-01 -1.55427710e-01 -1.87256102e-01 -9.16386752e-02\n",
      " -2.84574897e-02  3.68604083e-03 -2.75388648e-04 -2.43571212e-02\n",
      "  3.21942423e-02  5.18445464e-02  1.29281673e-02  2.45502224e-02\n",
      "  8.81290480e-02 -2.63167415e-02  7.53683159e-02  4.64979320e-02\n",
      "  6.64029086e-02  5.98395467e-01  1.12191216e-02]\n",
      "主成分 6 的特征向量：[-0.07329134 -0.33513361 -0.10729064  0.12540874 -0.02032102 -0.10148637\n",
      "  0.04517027  0.09557142 -0.01931997 -0.00716034  0.05218558  0.08842224\n",
      "  0.28052912  0.2413312   0.00855772  0.31313608  0.32152897  0.04096334\n",
      "  0.49706017  0.05470513 -0.02264058 -0.00396668  0.05980823 -0.02163974\n",
      " -0.09717643 -0.00887418 -0.02733948 -0.1485399  -0.13269136 -0.02231774\n",
      " -0.22894392 -0.13813706 -0.08085593  0.31458086 -0.00536852]\n",
      "主成分 7 的特征向量：[ 0.32244465 -0.05012972 -0.22295867  0.03088701 -0.06265096  0.29237553\n",
      " -0.14842314  0.17515408  0.19687153  0.06928708 -0.17020043 -0.15321247\n",
      " -0.07539956  0.01711283 -0.14857426 -0.13357607  0.0239165  -0.12579889\n",
      "  0.26012878 -0.16953489 -0.05207382  0.04353637  0.04228152 -0.03647465\n",
      " -0.19906549  0.12585314 -0.05625373 -0.01980331  0.23960343 -0.04916123\n",
      " -0.27806887  0.12230139  0.45005152 -0.14198557  0.06686948]\n",
      "主成分 8 的特征向量：[ 0.27964998  0.02967213  0.03933007 -0.02953385  0.03396996  0.09526013\n",
      " -0.0669581  -0.0151434   0.23842724  0.06708907 -0.06930614  0.28713016\n",
      " -0.12037981  0.00748435  0.06124966  0.00918755 -0.06551403  0.06717279\n",
      "  0.02172748 -0.06569938  0.04260287  0.04586665 -0.0407625   0.03026208\n",
      " -0.00591795  0.06071696 -0.04174899 -0.34909934  0.26490154  0.0412009\n",
      " -0.17570022  0.24262333 -0.65190083  0.01365675  0.04883039]\n",
      "主成分 9 的特征向量：[ 0.46806101 -0.00683947 -0.00084835  0.0336942   0.03150015  0.06960568\n",
      " -0.05496896 -0.02906241  0.11118035  0.33973574 -0.00448492 -0.03396473\n",
      " -0.03838464 -0.04381412 -0.0067548  -0.01587715  0.03339669 -0.00673632\n",
      " -0.03210582 -0.00872423  0.03353398  0.16781167  0.00963808  0.03297489\n",
      " -0.02718586  0.06208106  0.3270593  -0.05736261 -0.57419302  0.03464831\n",
      "  0.14912869 -0.29784588 -0.05632846 -0.01629063  0.21098406]\n",
      "主成分 10 的特征向量：[ 0.15498551 -0.00210527 -0.05252335 -0.00508559  0.04181763 -0.03174548\n",
      " -0.00770816  0.02695941  0.00756894  0.12768122  0.01737364  0.03185151\n",
      "  0.06247931  0.01071038  0.06319575  0.02535017  0.00373894  0.0618448\n",
      " -0.06927258  0.02020407  0.04205124  0.22375785  0.02739521  0.03777322\n",
      "  0.07701918 -0.04932188 -0.86831072  0.12199884 -0.23119594  0.04275503\n",
      "  0.07833401  0.11553753  0.03271836  0.03028982  0.16215295]\n",
      "主成分 11 的特征向量：[-0.02320172  0.00341436  0.01355094  0.00232371 -0.00611091  0.03525802\n",
      "  0.00164358  0.00504101  0.01613824 -0.70526353 -0.01086431 -0.00866886\n",
      " -0.00483475 -0.0080964  -0.01202609 -0.00845831 -0.00150007 -0.01618454\n",
      "  0.00140752 -0.00932663 -0.00483475  0.33299379 -0.00609589 -0.00306455\n",
      " -0.01232402  0.00760166  0.08209113 -0.0328395  -0.03062395 -0.00457312\n",
      "  0.00195438 -0.03922079 -0.02036891 -0.00833316  0.61439147]\n",
      "主成分 12 的特征向量：[-8.00126649e-03 -2.83059176e-05 -6.63018317e-03  1.56402809e-03\n",
      "  1.84426129e-03  1.15021892e-02 -9.46028801e-04 -4.83190708e-03\n",
      "  1.66146042e-02 -1.11176172e-01 -4.45405581e-03  3.26562715e-03\n",
      " -1.12177097e-02 -2.41140421e-03 -5.41522971e-04  1.98928144e-03\n",
      " -2.18887127e-03  4.26469502e-03  5.33642354e-03 -5.20984861e-03\n",
      "  9.49109954e-04  8.05342614e-01  9.36864599e-03  7.94077751e-04\n",
      " -7.43896414e-03  8.16981008e-03  7.69161348e-02 -1.16371391e-03\n",
      "  5.68097861e-03  5.48820968e-04 -7.10785007e-03 -1.14617472e-02\n",
      "  7.55347588e-03 -8.69553662e-05 -5.76082763e-01]\n",
      "主成分 13 的特征向量：[-0.22400802 -0.01522004  0.04169367 -0.00749309 -0.0121557  -0.18693008\n",
      "  0.06009221 -0.02199941 -0.17499792  0.5654769   0.04397941 -0.00904662\n",
      "  0.03410644  0.03160565  0.00693389  0.01319588  0.01769184  0.00459001\n",
      "  0.01459837  0.04217194 -0.0181354   0.39250069 -0.01084979 -0.01761029\n",
      "  0.02757192 -0.0328105   0.15100024  0.07202862  0.39049317 -0.01848511\n",
      " -0.02687637  0.06583988  0.04623314  0.01768393  0.45444538]\n",
      "主成分 14 的特征向量：[-0.61496586  0.0735024   0.09332673 -0.02299521 -0.07790405  0.45145342\n",
      " -0.0790251   0.06963186  0.15915143  0.16490502 -0.11323702 -0.04456404\n",
      "  0.03241606 -0.05998912 -0.08878701 -0.04132176 -0.07767417 -0.1285503\n",
      " -0.01104212 -0.09871562 -0.05702045  0.06285216 -0.16193805 -0.05531449\n",
      " -0.0803535  -0.03129707 -0.11529391 -0.32764065 -0.2788741  -0.05973715\n",
      " -0.07190949 -0.09667574 -0.07083802 -0.0575459   0.05880131]\n",
      "主成分 15 的特征向量：[-7.94574462e-02  9.79355857e-03  3.62864799e-02  1.47067295e-02\n",
      " -1.76098676e-03 -1.11939246e-01 -3.04748430e-02 -1.52706546e-02\n",
      "  2.82847518e-03  6.73778658e-03  2.21671616e-02 -4.48242310e-02\n",
      " -8.78418582e-02 -3.58116389e-02  1.09180662e-01  2.75658684e-02\n",
      "  1.16530164e-01  7.57430123e-02  1.19457535e-01  2.40696457e-02\n",
      "  5.61448765e-03  9.13912891e-03 -2.26657052e-01 -8.51082561e-03\n",
      " -1.12600885e-01  5.55790888e-02  1.87987626e-01  1.13135836e-02\n",
      " -3.63022815e-01  4.47069019e-04  4.77665712e-02  8.18523230e-01\n",
      "  1.07832647e-01  3.45617323e-02  1.72392865e-02]\n",
      "主成分 16 的特征向量：[-0.12848417 -0.02879099 -0.31030409 -0.13102973 -0.13667703 -0.17188633\n",
      " -0.06155122  0.03355621 -0.02408356  0.02088994 -0.03168872 -0.02742451\n",
      " -0.25059848  0.24271523 -0.10979948 -0.04191388 -0.26362479 -0.01385964\n",
      " -0.02464549 -0.03353922 -0.14280344  0.00765177  0.60665208 -0.12575598\n",
      "  0.23094312 -0.10933322  0.06060885 -0.03621658 -0.23194985 -0.12718219\n",
      " -0.17563932  0.13630324 -0.09849994 -0.04741518  0.02066057]\n"
     ]
    }
   ],
   "source": [
    "# 每个主成分的贡献率\n",
    "explained_variance_ratio = pca.explained_variance_ratio_\n",
    "\n",
    "# 计算累积贡献率\n",
    "cumulative_variance_ratio = explained_variance_ratio.cumsum()\n",
    "\n",
    "# 输出累积贡献率超过0.9的主成分的个数\n",
    "n_components_90 = np.argmax(cumulative_variance_ratio >= 0.9) + 1\n",
    "print(\"累积贡献率超过0.9的主成分个数：\", n_components_90)\n",
    "\n",
    "# 输出累积贡献率超过0.9的主成分的特征向量\n",
    "top_components = pca.components_[:n_components_90]\n",
    "for i, component in enumerate(top_components):\n",
    "    print(f\"主成分 {i+1} 的特征向量：{component}\")"
   ]
  },
  {
   "cell_type": "code",
   "execution_count": 53,
   "metadata": {},
   "outputs": [
    {
     "name": "stdout",
     "output_type": "stream",
     "text": [
      "0.9951177927306591\n"
     ]
    }
   ],
   "source": [
    "pca = PCA(n_components=28)\n",
    "X_pca = pca.fit_transform(X)\n",
    "X_test_pca=pca.transform(X_test)\n",
    "print(pca.explained_variance_ratio_.sum())    # 降维后信息保留量"
   ]
  },
  {
   "cell_type": "code",
   "execution_count": 54,
   "metadata": {},
   "outputs": [
    {
     "name": "stdout",
     "output_type": "stream",
     "text": [
      "训练时间: 0.68 秒\n"
     ]
    }
   ],
   "source": [
    "from sklearn.ensemble import RandomForestClassifier\n",
    "start_time = time.time()\n",
    "\n",
    "# all features\n",
    "clf=RandomForestClassifier(random_state=0)\n",
    "clf.fit(X, Y)\n",
    "end_time = time.time()\n",
    "# 计算执行时间\n",
    "training_time = end_time - start_time\n",
    "print(f\"训练时间: {training_time:.2f} 秒\")"
   ]
  },
  {
   "cell_type": "code",
   "execution_count": 55,
   "metadata": {},
   "outputs": [
    {
     "name": "stdout",
     "output_type": "stream",
     "text": [
      "训练时间: 5.96 秒\n"
     ]
    },
    {
     "data": {
      "text/html": [
       "<div>\n",
       "<style scoped>\n",
       "    .dataframe tbody tr th:only-of-type {\n",
       "        vertical-align: middle;\n",
       "    }\n",
       "\n",
       "    .dataframe tbody tr th {\n",
       "        vertical-align: top;\n",
       "    }\n",
       "\n",
       "    .dataframe thead th {\n",
       "        text-align: right;\n",
       "    }\n",
       "</style>\n",
       "<table border=\"1\" class=\"dataframe\">\n",
       "  <thead>\n",
       "    <tr style=\"text-align: right;\">\n",
       "      <th>Predicted attacks</th>\n",
       "      <th>0</th>\n",
       "      <th>1</th>\n",
       "      <th>2</th>\n",
       "      <th>3</th>\n",
       "      <th>4</th>\n",
       "    </tr>\n",
       "    <tr>\n",
       "      <th>Actual attacks</th>\n",
       "      <th></th>\n",
       "      <th></th>\n",
       "      <th></th>\n",
       "      <th></th>\n",
       "      <th></th>\n",
       "    </tr>\n",
       "  </thead>\n",
       "  <tbody>\n",
       "    <tr>\n",
       "      <th>0</th>\n",
       "      <td>9473</td>\n",
       "      <td>29</td>\n",
       "      <td>41</td>\n",
       "      <td>166</td>\n",
       "      <td>2</td>\n",
       "    </tr>\n",
       "    <tr>\n",
       "      <th>1</th>\n",
       "      <td>30</td>\n",
       "      <td>7420</td>\n",
       "      <td>8</td>\n",
       "      <td>0</td>\n",
       "      <td>0</td>\n",
       "    </tr>\n",
       "    <tr>\n",
       "      <th>2</th>\n",
       "      <td>60</td>\n",
       "      <td>10</td>\n",
       "      <td>2346</td>\n",
       "      <td>4</td>\n",
       "      <td>1</td>\n",
       "    </tr>\n",
       "    <tr>\n",
       "      <th>3</th>\n",
       "      <td>214</td>\n",
       "      <td>6</td>\n",
       "      <td>5</td>\n",
       "      <td>2516</td>\n",
       "      <td>13</td>\n",
       "    </tr>\n",
       "    <tr>\n",
       "      <th>4</th>\n",
       "      <td>20</td>\n",
       "      <td>1</td>\n",
       "      <td>3</td>\n",
       "      <td>21</td>\n",
       "      <td>155</td>\n",
       "    </tr>\n",
       "  </tbody>\n",
       "</table>\n",
       "</div>"
      ],
      "text/plain": [
       "Predicted attacks     0     1     2     3    4\n",
       "Actual attacks                                \n",
       "0                  9473    29    41   166    2\n",
       "1                    30  7420     8     0    0\n",
       "2                    60    10  2346     4    1\n",
       "3                   214     6     5  2516   13\n",
       "4                    20     1     3    21  155"
      ]
     },
     "execution_count": 55,
     "metadata": {},
     "output_type": "execute_result"
    }
   ],
   "source": [
    "from sklearn.model_selection import cross_val_predict\n",
    "from sklearn.metrics import confusion_matrix\n",
    "# 使用 cross_val_predict 进行交叉验证预测\n",
    "start_time = time.time()\n",
    "\n",
    "y_pred = cross_val_predict(clf, X_test_pca, Y_test, cv=10)\n",
    "\n",
    "end_time = time.time()\n",
    "training_time = end_time - start_time\n",
    "print(f\"训练时间: {training_time:.2f} 秒\")\n",
    "# 混淆矩阵\n",
    "pd.crosstab(Y_test, y_pred, rownames=['Actual attacks'], colnames=['Predicted attacks'])"
   ]
  },
  {
   "cell_type": "code",
   "execution_count": 56,
   "metadata": {},
   "outputs": [
    {
     "name": "stdout",
     "output_type": "stream",
     "text": [
      "             precision    recall  f1-score   support\n",
      "\n",
      "          0      0.967     0.975     0.971      9711\n",
      "          1      0.994     0.995     0.994      7458\n",
      "          2      0.976     0.969     0.973      2421\n",
      "          3      0.929     0.914     0.921      2754\n",
      "          4      0.906     0.775     0.836       200\n",
      "\n",
      "avg / total      0.972     0.972     0.972     22544\n",
      "\n"
     ]
    }
   ],
   "source": [
    "from sklearn.metrics import confusion_matrix,classification_report,accuracy_score,roc_auc_score,f1_score\n",
    "print(classification_report(Y_test, y_pred, digits=3))"
   ]
  },
  {
   "cell_type": "code",
   "execution_count": 57,
   "metadata": {},
   "outputs": [
    {
     "name": "stdout",
     "output_type": "stream",
     "text": [
      "                  Accuracy\n",
      "0                 0.975492\n",
      "1                 0.994905\n",
      "2                 0.969021\n",
      "3                 0.913580\n",
      "4                 0.775000\n",
      "Overall Accuracy  0.971877\n"
     ]
    }
   ],
   "source": [
    "from sklearn.metrics import confusion_matrix\n",
    "\n",
    "# 计算混淆矩阵\n",
    "conf_matrix = confusion_matrix(Y_test, y_pred)\n",
    "\n",
    "# 提取各分类的真正例、假正例、真负例、假负例\n",
    "true_positives = np.diag(conf_matrix)\n",
    "false_positives = np.sum(conf_matrix, axis=0) - true_positives\n",
    "false_negatives = np.sum(conf_matrix, axis=1) - true_positives\n",
    "true_negatives = np.sum(conf_matrix) - (true_positives + false_positives + false_negatives)\n",
    "\n",
    "# 计算各分类的准确率\n",
    "class_accuracies = true_positives / (true_positives + false_negatives)\n",
    "\n",
    "# 将整体准确率加入到列表中\n",
    "overall_accuracy = np.sum(true_positives) / np.sum(conf_matrix)\n",
    "\n",
    "# 创建包含准确率的数据帧\n",
    "index = [str(i) for i in range(len(class_accuracies))] + ['Overall Accuracy']\n",
    "df_ac = pd.DataFrame({'Accuracy': np.append(class_accuracies, overall_accuracy)}, index=index)\n",
    "\n",
    "# 打印数据帧\n",
    "print(df_ac)"
   ]
  },
  {
   "cell_type": "code",
   "execution_count": null,
   "metadata": {},
   "outputs": [],
   "source": []
  }
 ],
 "metadata": {
  "kernelspec": {
   "display_name": "tensorflow",
   "language": "python",
   "name": "python3"
  },
  "language_info": {
   "codemirror_mode": {
    "name": "ipython",
    "version": 3
   },
   "file_extension": ".py",
   "mimetype": "text/x-python",
   "name": "python",
   "nbconvert_exporter": "python",
   "pygments_lexer": "ipython3",
   "version": "3.6.13"
  }
 },
 "nbformat": 4,
 "nbformat_minor": 2
}
