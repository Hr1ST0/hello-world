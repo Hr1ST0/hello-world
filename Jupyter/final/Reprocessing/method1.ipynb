{
 "cells": [
  {
   "cell_type": "code",
   "execution_count": 1,
   "metadata": {},
   "outputs": [],
   "source": [
    "import pandas as pd\n",
    "import numpy as np\n",
    "import sklearn\n",
    "import os\n",
    "import matplotlib.pyplot as plt\n",
    "import time"
   ]
  },
  {
   "cell_type": "code",
   "execution_count": 2,
   "metadata": {},
   "outputs": [
    {
     "name": "stdout",
     "output_type": "stream",
     "text": [
      "Dimensions of the Training set: (125973, 42)\n",
      "Dimensions of the Test set: (22544, 42)\n"
     ]
    }
   ],
   "source": [
    "# 加载数据库的列名\n",
    "col_names = [\"duration\",\"protocol_type\",\"service\",\"flag\",\"src_bytes\",\n",
    "    \"dst_bytes\",\"land\",\"wrong_fragment\",\"urgent\",\"hot\",\"num_failed_logins\",\n",
    "    \"logged_in\",\"num_compromised\",\"root_shell\",\"su_attempted\",\"num_root\",\n",
    "    \"num_file_creations\",\"num_shells\",\"num_access_files\",\"num_outbound_cmds\",\n",
    "    \"is_host_login\",\"is_guest_login\",\"count\",\"srv_count\",\"serror_rate\",\n",
    "    \"srv_serror_rate\",\"rerror_rate\",\"srv_rerror_rate\",\"same_srv_rate\",\n",
    "    \"diff_srv_rate\",\"srv_diff_host_rate\",\"dst_host_count\",\"dst_host_srv_count\",\n",
    "    \"dst_host_same_srv_rate\",\"dst_host_diff_srv_rate\",\"dst_host_same_src_port_rate\",\n",
    "    \"dst_host_srv_diff_host_rate\",\"dst_host_serror_rate\",\"dst_host_srv_serror_rate\",\n",
    "    \"dst_host_rerror_rate\",\"dst_host_srv_rerror_rate\",\"label\",\"difficulty_level\"]\n",
    "\n",
    "# 加载训练集和测试集\n",
    "train_path=r\"F:\\Jupyter\\kaggle\\data\\NSL-KDD\\KDDTrain+.txt\"\n",
    "test_path=r\"F:\\Jupyter\\kaggle\\data\\NSL-KDD\\KDDTest+.txt\"\n",
    "df = pd.read_csv(train_path, header=None, names = col_names)\n",
    "df_test = pd.read_csv(test_path, header=None, names = col_names)\n",
    "\n",
    "df.drop('difficulty_level',inplace=True,axis=1)\n",
    "df_test.drop('difficulty_level',inplace=True,axis=1)\n",
    "#数据集的shape\n",
    "print('Dimensions of the Training set:',df.shape)\n",
    "print('Dimensions of the Test set:',df_test.shape)"
   ]
  },
  {
   "cell_type": "code",
   "execution_count": 3,
   "metadata": {},
   "outputs": [
    {
     "name": "stdout",
     "output_type": "stream",
     "text": [
      "(125973, 39)\n",
      "(22544, 39)\n"
     ]
    }
   ],
   "source": [
    "df.drop('flag', axis=1, inplace=True)\n",
    "df.drop('protocol_type', axis=1, inplace=True)\n",
    "df.drop('service', axis=1, inplace=True)\n",
    "# test data\n",
    "\n",
    "df_test.drop('flag', axis=1, inplace=True)\n",
    "df_test.drop('protocol_type', axis=1, inplace=True)\n",
    "df_test.drop('service', axis=1, inplace=True)\n",
    "print(df.shape)\n",
    "print(df_test.shape)"
   ]
  },
  {
   "cell_type": "code",
   "execution_count": 4,
   "metadata": {},
   "outputs": [],
   "source": [
    "labeldf=df['label']\n",
    "labeldf_test=df_test['label']\n",
    "\n",
    "#把.洗掉\n",
    "labeldf = labeldf.str.rstrip('.')\n",
    "labeldf_test = labeldf_test.str.rstrip('.')\n",
    "newlabeldf=labeldf.replace({'normal':0,\n",
    "                            'neptune':1,'back': 1, 'land': 1, 'pod': 1, 'smurf': 1, 'teardrop': 1,'mailbomb': 1, 'apache2': 1, 'processtable': 1, 'udpstorm': 1, \n",
    "                             'ipsweep' : 2,'nmap' : 2,'portsweep' : 2,'satan' : 2,'mscan' : 2,'saint' : 2,\n",
    "                             'ftp_write': 3,'guess_passwd': 3,'imap': 3,'multihop': 3,'phf': 3,'spy': 3,'warezclient': 3,'warezmaster': 3,'sendmail': 3,'named': 3,'snmpgetattack': 3,'snmpguess': 3,'xlock': 3,'xsnoop': 3,'worm': 3,\n",
    "                             'httptunnel': 4,'buffer_overflow': 4,'loadmodule': 4,'perl': 4,'rootkit': 4,'ps': 4,'sqlattack': 4,'xterm': 4})\n",
    "newlabeldf_test=labeldf_test.replace({'normal' : 0,\n",
    "                             'neptune' : 1 ,'back': 1, 'land': 1, 'pod': 1, 'smurf': 1, 'teardrop': 1,'mailbomb': 1, 'apache2': 1, 'processtable': 1, 'udpstorm': 1, \n",
    "                             'ipsweep' : 2,'nmap' : 2,'portsweep' : 2,'satan' : 2,'mscan' : 2,'saint' : 2,\n",
    "                             'ftp_write': 3,'guess_passwd': 3,'imap': 3,'multihop': 3,'phf': 3,'spy': 3,'warezclient': 3,'warezmaster': 3,'sendmail': 3,'named': 3,'snmpgetattack': 3,'snmpguess': 3,'xlock': 3,'xsnoop': 3,'worm': 3,\n",
    "                             'httptunnel': 4,'buffer_overflow': 4,'loadmodule': 4,'perl': 4,'rootkit': 4,'ps': 4,'sqlattack': 4,'xterm': 4})\n",
    "\n",
    "df['label'] = newlabeldf\n",
    "df_test['label'] = newlabeldf_test\n",
    "# print(newdf['label'].tail())"
   ]
  },
  {
   "cell_type": "code",
   "execution_count": 5,
   "metadata": {},
   "outputs": [],
   "source": [
    "# 将数据集分割为特征（X）和目标变量（Y）\n",
    "# assign X as a dataframe of feautures and Y as a series of outcome variables\n",
    "X = df.drop('label',axis=1)\n",
    "Y = df.label\n",
    "\n",
    "X_test = df_test.drop('label',axis=1)\n",
    "Y_test = df_test.label"
   ]
  },
  {
   "cell_type": "code",
   "execution_count": 6,
   "metadata": {},
   "outputs": [
    {
     "data": {
      "text/plain": [
       "(125973, 38)"
      ]
     },
     "execution_count": 6,
     "metadata": {},
     "output_type": "execute_result"
    }
   ],
   "source": [
    "X.shape"
   ]
  },
  {
   "cell_type": "code",
   "execution_count": 7,
   "metadata": {},
   "outputs": [],
   "source": [
    "from sklearn import preprocessing\n",
    "#全部特征\n",
    "scaler1 = preprocessing.StandardScaler().fit(X)\n",
    "X=scaler1.transform(X) \n",
    "\n",
    "scaler2 = preprocessing.StandardScaler().fit(X_test)\n",
    "X_test=scaler2.transform(X_test) "
   ]
  },
  {
   "cell_type": "code",
   "execution_count": 8,
   "metadata": {},
   "outputs": [
    {
     "name": "stdout",
     "output_type": "stream",
     "text": [
      "训练时间: 0.77 秒\n",
      "Wall time: 840 ms\n"
     ]
    }
   ],
   "source": [
    "%%time\n",
    "from sklearn.tree import DecisionTreeClassifier\n",
    "start_time = time.time()\n",
    "\n",
    "# all features\n",
    "clf=DecisionTreeClassifier(random_state=0)\n",
    "clf.fit(X, Y)\n",
    "end_time = time.time()\n",
    "# 计算执行时间\n",
    "training_time = end_time - start_time\n",
    "print(f\"训练时间: {training_time:.2f} 秒\")"
   ]
  },
  {
   "cell_type": "code",
   "execution_count": 9,
   "metadata": {},
   "outputs": [
    {
     "data": {
      "text/html": [
       "<div>\n",
       "<style scoped>\n",
       "    .dataframe tbody tr th:only-of-type {\n",
       "        vertical-align: middle;\n",
       "    }\n",
       "\n",
       "    .dataframe tbody tr th {\n",
       "        vertical-align: top;\n",
       "    }\n",
       "\n",
       "    .dataframe thead th {\n",
       "        text-align: right;\n",
       "    }\n",
       "</style>\n",
       "<table border=\"1\" class=\"dataframe\">\n",
       "  <thead>\n",
       "    <tr style=\"text-align: right;\">\n",
       "      <th>Predicted attacks</th>\n",
       "      <th>0</th>\n",
       "      <th>1</th>\n",
       "      <th>2</th>\n",
       "      <th>3</th>\n",
       "      <th>4</th>\n",
       "    </tr>\n",
       "    <tr>\n",
       "      <th>Actual attacks</th>\n",
       "      <th></th>\n",
       "      <th></th>\n",
       "      <th></th>\n",
       "      <th></th>\n",
       "      <th></th>\n",
       "    </tr>\n",
       "  </thead>\n",
       "  <tbody>\n",
       "    <tr>\n",
       "      <th>0</th>\n",
       "      <td>9515</td>\n",
       "      <td>28</td>\n",
       "      <td>32</td>\n",
       "      <td>121</td>\n",
       "      <td>15</td>\n",
       "    </tr>\n",
       "    <tr>\n",
       "      <th>1</th>\n",
       "      <td>18</td>\n",
       "      <td>7421</td>\n",
       "      <td>11</td>\n",
       "      <td>5</td>\n",
       "      <td>3</td>\n",
       "    </tr>\n",
       "    <tr>\n",
       "      <th>2</th>\n",
       "      <td>50</td>\n",
       "      <td>8</td>\n",
       "      <td>2350</td>\n",
       "      <td>4</td>\n",
       "      <td>9</td>\n",
       "    </tr>\n",
       "    <tr>\n",
       "      <th>3</th>\n",
       "      <td>137</td>\n",
       "      <td>6</td>\n",
       "      <td>4</td>\n",
       "      <td>2585</td>\n",
       "      <td>22</td>\n",
       "    </tr>\n",
       "    <tr>\n",
       "      <th>4</th>\n",
       "      <td>7</td>\n",
       "      <td>0</td>\n",
       "      <td>7</td>\n",
       "      <td>19</td>\n",
       "      <td>167</td>\n",
       "    </tr>\n",
       "  </tbody>\n",
       "</table>\n",
       "</div>"
      ],
      "text/plain": [
       "Predicted attacks     0     1     2     3    4\n",
       "Actual attacks                                \n",
       "0                  9515    28    32   121   15\n",
       "1                    18  7421    11     5    3\n",
       "2                    50     8  2350     4    9\n",
       "3                   137     6     4  2585   22\n",
       "4                     7     0     7    19  167"
      ]
     },
     "execution_count": 9,
     "metadata": {},
     "output_type": "execute_result"
    }
   ],
   "source": [
    "from sklearn.model_selection import cross_val_predict\n",
    "from sklearn.metrics import confusion_matrix\n",
    "# 使用 cross_val_predict 进行交叉验证预测\n",
    "y_pred = cross_val_predict(clf, X_test, Y_test, cv=10)\n",
    "\n",
    "# 混淆矩阵\n",
    "pd.crosstab(Y_test, y_pred, rownames=['Actual attacks'], colnames=['Predicted attacks'])"
   ]
  },
  {
   "cell_type": "code",
   "execution_count": 10,
   "metadata": {},
   "outputs": [
    {
     "name": "stdout",
     "output_type": "stream",
     "text": [
      "             precision    recall  f1-score   support\n",
      "\n",
      "          0      0.978     0.980     0.979      9711\n",
      "          1      0.994     0.995     0.995      7458\n",
      "          2      0.978     0.971     0.974      2421\n",
      "          3      0.946     0.939     0.942      2754\n",
      "          4      0.773     0.835     0.803       200\n",
      "\n",
      "avg / total      0.978     0.978     0.978     22544\n",
      "\n"
     ]
    }
   ],
   "source": [
    "from sklearn.metrics import confusion_matrix,classification_report,accuracy_score,roc_auc_score,f1_score\n",
    "print(classification_report(Y_test, y_pred, digits=3))\n"
   ]
  },
  {
   "cell_type": "code",
   "execution_count": 11,
   "metadata": {},
   "outputs": [
    {
     "name": "stdout",
     "output_type": "stream",
     "text": [
      "                  Accuracy\n",
      "0                 0.979817\n",
      "1                 0.995039\n",
      "2                 0.970673\n",
      "3                 0.938635\n",
      "4                 0.835000\n",
      "Overall Accuracy  0.977555\n"
     ]
    }
   ],
   "source": [
    "from sklearn.metrics import confusion_matrix\n",
    "\n",
    "# 计算混淆矩阵\n",
    "conf_matrix = confusion_matrix(Y_test, y_pred)\n",
    "\n",
    "# 提取各分类的真正例、假正例、真负例、假负例\n",
    "true_positives = np.diag(conf_matrix)\n",
    "false_positives = np.sum(conf_matrix, axis=0) - true_positives\n",
    "false_negatives = np.sum(conf_matrix, axis=1) - true_positives\n",
    "true_negatives = np.sum(conf_matrix) - (true_positives + false_positives + false_negatives)\n",
    "\n",
    "# 计算各分类的准确率\n",
    "class_accuracies = true_positives / (true_positives + false_negatives)\n",
    "\n",
    "# 将整体准确率加入到列表中\n",
    "overall_accuracy = np.sum(true_positives) / np.sum(conf_matrix)\n",
    "\n",
    "# 创建包含准确率的数据帧\n",
    "index = [str(i) for i in range(len(class_accuracies))] + ['Overall Accuracy']\n",
    "df_ac = pd.DataFrame({'Accuracy': np.append(class_accuracies, overall_accuracy)}, index=index)\n",
    "\n",
    "# 打印数据帧\n",
    "print(df_ac)"
   ]
  },
  {
   "cell_type": "code",
   "execution_count": 12,
   "metadata": {},
   "outputs": [
    {
     "data": {
      "text/plain": [
       "array([196,  37,  71, 169,  33], dtype=int64)"
      ]
     },
     "execution_count": 12,
     "metadata": {},
     "output_type": "execute_result"
    }
   ],
   "source": [
    "false_negatives"
   ]
  }
 ],
 "metadata": {
  "kernelspec": {
   "display_name": "tensorflow",
   "language": "python",
   "name": "python3"
  },
  "language_info": {
   "codemirror_mode": {
    "name": "ipython",
    "version": 3
   },
   "file_extension": ".py",
   "mimetype": "text/x-python",
   "name": "python",
   "nbconvert_exporter": "python",
   "pygments_lexer": "ipython3",
   "version": "3.6.13"
  }
 },
 "nbformat": 4,
 "nbformat_minor": 2
}
