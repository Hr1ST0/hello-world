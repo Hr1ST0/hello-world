{
 "cells": [
  {
   "cell_type": "code",
   "execution_count": 1,
   "metadata": {},
   "outputs": [],
   "source": [
    "import pandas as pd\n",
    "import numpy as np\n",
    "import sklearn\n",
    "import os\n",
    "import matplotlib.pyplot as plt\n",
    "import time"
   ]
  },
  {
   "cell_type": "code",
   "execution_count": 2,
   "metadata": {},
   "outputs": [
    {
     "name": "stdout",
     "output_type": "stream",
     "text": [
      "Dimensions of the Training set: (125973, 42)\n",
      "Dimensions of the Test set: (22544, 42)\n"
     ]
    }
   ],
   "source": [
    "# 加载数据库的列名\n",
    "col_names = [\"duration\",\"protocol_type\",\"service\",\"flag\",\"src_bytes\",\n",
    "    \"dst_bytes\",\"land\",\"wrong_fragment\",\"urgent\",\"hot\",\"num_failed_logins\",\n",
    "    \"logged_in\",\"num_compromised\",\"root_shell\",\"su_attempted\",\"num_root\",\n",
    "    \"num_file_creations\",\"num_shells\",\"num_access_files\",\"num_outbound_cmds\",\n",
    "    \"is_host_login\",\"is_guest_login\",\"count\",\"srv_count\",\"serror_rate\",\n",
    "    \"srv_serror_rate\",\"rerror_rate\",\"srv_rerror_rate\",\"same_srv_rate\",\n",
    "    \"diff_srv_rate\",\"srv_diff_host_rate\",\"dst_host_count\",\"dst_host_srv_count\",\n",
    "    \"dst_host_same_srv_rate\",\"dst_host_diff_srv_rate\",\"dst_host_same_src_port_rate\",\n",
    "    \"dst_host_srv_diff_host_rate\",\"dst_host_serror_rate\",\"dst_host_srv_serror_rate\",\n",
    "    \"dst_host_rerror_rate\",\"dst_host_srv_rerror_rate\",\"label\",\"difficulty_level\"]\n",
    "\n",
    "# 加载训练集和测试集\n",
    "train_path=r\"F:\\Jupyter\\kaggle\\data\\NSL-KDD\\KDDTrain+.txt\"\n",
    "test_path=r\"F:\\Jupyter\\kaggle\\data\\NSL-KDD\\KDDTest+.txt\"\n",
    "df = pd.read_csv(train_path, header=None, names = col_names)\n",
    "df_test = pd.read_csv(test_path, header=None, names = col_names)\n",
    "df.drop('difficulty_level',inplace=True,axis=1)\n",
    "df_test.drop('difficulty_level',inplace=True,axis=1)\n",
    "#数据集的shape\n",
    "print('Dimensions of the Training set:',df.shape)\n",
    "print('Dimensions of the Test set:',df_test.shape)"
   ]
  },
  {
   "cell_type": "markdown",
   "metadata": {},
   "source": [
    "# 分离离散型特征"
   ]
  },
  {
   "cell_type": "code",
   "execution_count": 3,
   "metadata": {},
   "outputs": [],
   "source": [
    "#df_categorical_values————存储了包含'protocol_type'，'service'和'flag'。的训练集数据\n",
    "#testdf_categorical_values——'protocol_type'，'service'和'flag'的测试集数据\n",
    "from sklearn.preprocessing import LabelEncoder,OneHotEncoder\n",
    "\n",
    "\n",
    "categorical_columns=['protocol_type', 'service', 'flag'] \n",
    "#将这三个离散特征分离出来\n",
    "df_categorical_values = df[categorical_columns]\n",
    "testdf_categorical_values = df_test[categorical_columns]"
   ]
  },
  {
   "cell_type": "code",
   "execution_count": 4,
   "metadata": {},
   "outputs": [
    {
     "name": "stdout",
     "output_type": "stream",
     "text": [
      "['Protocol_type_icmp', 'Protocol_type_tcp', 'Protocol_type_udp', 'service_IRC', 'service_X11', 'service_Z39_50', 'service_aol', 'service_auth', 'service_bgp', 'service_courier', 'service_csnet_ns', 'service_ctf', 'service_daytime', 'service_discard', 'service_domain', 'service_domain_u', 'service_echo', 'service_eco_i', 'service_ecr_i', 'service_efs', 'service_exec', 'service_finger', 'service_ftp', 'service_ftp_data', 'service_gopher', 'service_harvest', 'service_hostnames', 'service_http', 'service_http_2784', 'service_http_443', 'service_http_8001', 'service_imap4', 'service_iso_tsap', 'service_klogin', 'service_kshell', 'service_ldap', 'service_link', 'service_login', 'service_mtp', 'service_name', 'service_netbios_dgm', 'service_netbios_ns', 'service_netbios_ssn', 'service_netstat', 'service_nnsp', 'service_nntp', 'service_ntp_u', 'service_other', 'service_pm_dump', 'service_pop_2', 'service_pop_3', 'service_printer', 'service_private', 'service_red_i', 'service_remote_job', 'service_rje', 'service_shell', 'service_smtp', 'service_sql_net', 'service_ssh', 'service_sunrpc', 'service_supdup', 'service_systat', 'service_telnet', 'service_tftp_u', 'service_tim_i', 'service_time', 'service_urh_i', 'service_urp_i', 'service_uucp', 'service_uucp_path', 'service_vmnet', 'service_whois', 'flag_OTH', 'flag_REJ', 'flag_RSTO', 'flag_RSTOS0', 'flag_RSTR', 'flag_S0', 'flag_S1', 'flag_S2', 'flag_S3', 'flag_SF', 'flag_SH']\n"
     ]
    }
   ],
   "source": [
    "# protocol type\n",
    "unique_protocol=sorted(df.protocol_type.unique())\n",
    "string1 = 'Protocol_type_'\n",
    "unique_protocol2=[string1 + x for x in unique_protocol]\n",
    "# service\n",
    "unique_service=sorted(df.service.unique())\n",
    "string2 = 'service_'\n",
    "unique_service2=[string2 + x for x in unique_service]\n",
    "# flag\n",
    "unique_flag=sorted(df.flag.unique())\n",
    "string3 = 'flag_'\n",
    "unique_flag2=[string3 + x for x in unique_flag]\n",
    "# 合并\n",
    "dumcols=unique_protocol2 + unique_service2 + unique_flag2\n",
    "print(dumcols)\n",
    "\n",
    "#同理于测试集，由于测试集和训练集只有service有区别，所以只要对service特别处理\n",
    "unique_service_test=sorted(df_test.service.unique())\n",
    "unique_service2_test=[string2 + x for x in unique_service_test]\n",
    "testdumcols=unique_protocol2 + unique_service2_test + unique_flag2"
   ]
  },
  {
   "cell_type": "code",
   "execution_count": 5,
   "metadata": {},
   "outputs": [
    {
     "name": "stdout",
     "output_type": "stream",
     "text": [
      "   protocol_type  service  flag\n",
      "0              1       20     9\n",
      "1              2       44     9\n",
      "2              1       49     5\n",
      "3              1       24     9\n",
      "4              1       24     9\n"
     ]
    }
   ],
   "source": [
    "#df_categorical_values_enc————将dumcols中的类别标签转换为数值。\n",
    "#testdf_categorical_values_enc同理\n",
    "df_categorical_values_enc=df_categorical_values.apply(LabelEncoder().fit_transform)\n",
    "print(df_categorical_values_enc.head())\n",
    "# test set\n",
    "testdf_categorical_values_enc=testdf_categorical_values.apply(LabelEncoder().fit_transform)"
   ]
  },
  {
   "cell_type": "code",
   "execution_count": 6,
   "metadata": {},
   "outputs": [],
   "source": [
    "# df_cat_data----训练集每一行对于提取出来的每个特征作为列向量，若有这个特征就把值设为1，没有就是0\n",
    "# testdf_cat_data\n",
    "\n",
    "enc = OneHotEncoder()\n",
    "df_categorical_values_encenc = enc.fit_transform(df_categorical_values_enc)\n",
    "df_cat_data = pd.DataFrame(df_categorical_values_encenc.toarray(),columns=dumcols)\n",
    "# test set\n",
    "testdf_categorical_values_encenc = enc.fit_transform(testdf_categorical_values_enc)\n",
    "testdf_cat_data = pd.DataFrame(testdf_categorical_values_encenc.toarray(),columns=testdumcols)"
   ]
  },
  {
   "cell_type": "code",
   "execution_count": 7,
   "metadata": {},
   "outputs": [
    {
     "name": "stdout",
     "output_type": "stream",
     "text": [
      "['http_2784', 'red_i', 'harvest', 'aol', 'http_8001', 'urh_i']\n",
      "[]\n"
     ]
    }
   ],
   "source": [
    "trainservice = df['service'].tolist()\n",
    "testservice = df_test['service'].tolist()\n",
    "\n",
    "train_difference = list(set(trainservice) - set(testservice))\n",
    "test_difference = list(set(testservice) - set(trainservice))\n",
    "\n",
    "print(train_difference)\n",
    "print(test_difference)\n",
    "\n",
    "string = 'service_'\n",
    "train_difference = [string + x for x in train_difference]\n",
    "test_difference = [string + x for x in test_difference]"
   ]
  },
  {
   "cell_type": "code",
   "execution_count": 8,
   "metadata": {},
   "outputs": [],
   "source": [
    "for col in train_difference:\n",
    "    testdf_cat_data[col] = 0\n",
    "\n",
    "for col in test_difference:\n",
    "    df_cat_data[col] = 0"
   ]
  },
  {
   "cell_type": "code",
   "execution_count": 9,
   "metadata": {},
   "outputs": [
    {
     "name": "stdout",
     "output_type": "stream",
     "text": [
      "(125973, 123)\n",
      "(22544, 123)\n"
     ]
    }
   ],
   "source": [
    "newdf=df.join(df_cat_data)\n",
    "newdf.drop('flag', axis=1, inplace=True)\n",
    "newdf.drop('protocol_type', axis=1, inplace=True)\n",
    "newdf.drop('service', axis=1, inplace=True)\n",
    "# test data\n",
    "newdf_test=df_test.join(testdf_cat_data)\n",
    "newdf_test.drop('flag', axis=1, inplace=True)\n",
    "newdf_test.drop('protocol_type', axis=1, inplace=True)\n",
    "newdf_test.drop('service', axis=1, inplace=True)\n",
    "print(newdf.shape)\n",
    "print(newdf_test.shape)"
   ]
  },
  {
   "cell_type": "code",
   "execution_count": 10,
   "metadata": {},
   "outputs": [],
   "source": [
    "labeldf=newdf['label']\n",
    "labeldf_test=newdf_test['label']\n",
    "\n",
    "#把.洗掉\n",
    "labeldf = labeldf.str.rstrip('.')\n",
    "labeldf_test = labeldf_test.str.rstrip('.')\n",
    "newlabeldf=labeldf.replace({'normal':0,\n",
    "                            'neptune':1,'back': 1, 'land': 1, 'pod': 1, 'smurf': 1, 'teardrop': 1,'mailbomb': 1, 'apache2': 1, 'processtable': 1, 'udpstorm': 1, \n",
    "                             'ipsweep' : 2,'nmap' : 2,'portsweep' : 2,'satan' : 2,'mscan' : 2,'saint' : 2,\n",
    "                             'ftp_write': 3,'guess_passwd': 3,'imap': 3,'multihop': 3,'phf': 3,'spy': 3,'warezclient': 3,'warezmaster': 3,'sendmail': 3,'named': 3,'snmpgetattack': 3,'snmpguess': 3,'xlock': 3,'xsnoop': 3,'worm': 3,\n",
    "                             'httptunnel': 4,'buffer_overflow': 4,'loadmodule': 4,'perl': 4,'rootkit': 4,'ps': 4,'sqlattack': 4,'xterm': 4})\n",
    "newlabeldf_test=labeldf_test.replace({'normal' : 0,\n",
    "                             'neptune' : 1 ,'back': 1, 'land': 1, 'pod': 1, 'smurf': 1, 'teardrop': 1,'mailbomb': 1, 'apache2': 1, 'processtable': 1, 'udpstorm': 1, \n",
    "                             'ipsweep' : 2,'nmap' : 2,'portsweep' : 2,'satan' : 2,'mscan' : 2,'saint' : 2,\n",
    "                             'ftp_write': 3,'guess_passwd': 3,'imap': 3,'multihop': 3,'phf': 3,'spy': 3,'warezclient': 3,'warezmaster': 3,'sendmail': 3,'named': 3,'snmpgetattack': 3,'snmpguess': 3,'xlock': 3,'xsnoop': 3,'worm': 3,\n",
    "                             'httptunnel': 4,'buffer_overflow': 4,'loadmodule': 4,'perl': 4,'rootkit': 4,'ps': 4,'sqlattack': 4,'xterm': 4})\n",
    "\n",
    "newdf['label'] = newlabeldf\n",
    "newdf_test['label'] = newlabeldf_test\n",
    "# print(newdf['label'].tail())"
   ]
  },
  {
   "cell_type": "code",
   "execution_count": 11,
   "metadata": {},
   "outputs": [
    {
     "name": "stdout",
     "output_type": "stream",
     "text": [
      "Train:\n",
      "Dimensions of DoS: (113270, 123)\n",
      "Dimensions of Probe: (78999, 123)\n",
      "Dimensions of R2L: (68338, 123)\n",
      "Dimensions of U2R: (67395, 123)\n"
     ]
    }
   ],
   "source": [
    "to_drop_DoS = [2,3,4]\n",
    "to_drop_Probe = [1,3,4]\n",
    "to_drop_R2L = [1,2,4]\n",
    "to_drop_U2R = [1,2,3]\n",
    "\n",
    "DoS_df=newdf[~newdf['label'].isin(to_drop_DoS)];\n",
    "Probe_df=newdf[~newdf['label'].isin(to_drop_Probe)];\n",
    "R2L_df=newdf[~newdf['label'].isin(to_drop_R2L)];\n",
    "U2R_df=newdf[~newdf['label'].isin(to_drop_U2R)];\n",
    "\n",
    "print('Train:')\n",
    "print('Dimensions of DoS:' ,DoS_df.shape)\n",
    "print('Dimensions of Probe:' ,Probe_df.shape)\n",
    "print('Dimensions of R2L:' ,R2L_df.shape)\n",
    "print('Dimensions of U2R:' ,U2R_df.shape)"
   ]
  },
  {
   "cell_type": "markdown",
   "metadata": {},
   "source": [
    "# Step 2: 特征缩放"
   ]
  },
  {
   "cell_type": "code",
   "execution_count": 12,
   "metadata": {},
   "outputs": [],
   "source": [
    "# 将数据集分割为特征（X）和目标变量（Y）\n",
    "# assign X as a dataframe of feautures and Y as a series of outcome variables\n",
    "X = newdf.drop('label',axis=1)\n",
    "Y = newdf.label\n",
    "\n",
    "X_test = newdf_test.drop('label',axis=1)\n",
    "Y_test = newdf_test.label\n",
    "\n",
    "# 寻找最佳的特征向量\n",
    "X_DoS = DoS_df.drop('label',axis=1)\n",
    "Y_DoS = DoS_df.label\n",
    "X_Probe = Probe_df.drop('label',axis=1)\n",
    "Y_Probe = Probe_df.label\n",
    "X_R2L = R2L_df.drop('label',axis=1)\n",
    "Y_R2L = R2L_df.label\n",
    "X_U2R = U2R_df.drop('label',axis=1)\n",
    "Y_U2R = U2R_df.label"
   ]
  },
  {
   "cell_type": "markdown",
   "metadata": {},
   "source": [
    "### 保存功能名称列表以备后用（每个攻击类别都相同）。在此阶段将删除列名。"
   ]
  },
  {
   "cell_type": "code",
   "execution_count": 13,
   "metadata": {},
   "outputs": [],
   "source": [
    "#colNames 就是一个包含 X_DoS 中所有列名称的列表\n",
    "colNames=list(X)\n",
    "colNames_test=list(X_test)"
   ]
  },
  {
   "cell_type": "markdown",
   "metadata": {},
   "source": [
    "## 标准化：StandardScaler() \n",
    "``` python\n",
    "scaler1 = preprocessing.StandardScaler().fit(X_DoS) #这行代码创建了一个 StandardScaler 对象 scaler1，并使用 X_DoS 数据计算了均值和标准差。\n",
    "X_DoS=scaler1.transform(X_DoS) #这行代码将 scaler1 的缩放参数应用于 X_DoS，实现标准化。标准化后的数据将具有零均值和单位标准差,并将结果保存回 X_DoS。\n",
    "print(X_DoS.std(axis=0))#代码使用 std 函数检查了每种攻击类型的训练数据的标准差是否为1。如果数据已经正确地标准化，那么其标准差应该接近1。\n",
    "```"
   ]
  },
  {
   "cell_type": "code",
   "execution_count": 14,
   "metadata": {},
   "outputs": [],
   "source": [
    "from sklearn import preprocessing\n",
    "#全部特征\n",
    "scaler1 = preprocessing.StandardScaler().fit(X)\n",
    "X=scaler1.transform(X) \n",
    "\n",
    "scaler2 = preprocessing.StandardScaler().fit(X_test)\n",
    "X_test=scaler2.transform(X_test) \n",
    "\n",
    "#寻找特征向量\n",
    "scaler3 = preprocessing.StandardScaler().fit(X_DoS)\n",
    "X_DoS=scaler3.transform(X_DoS) \n",
    "scaler4 = preprocessing.StandardScaler().fit(X_Probe)\n",
    "X_Probe=scaler4.transform(X_Probe) \n",
    "scaler5 = preprocessing.StandardScaler().fit(X_R2L)\n",
    "X_R2L=scaler5.transform(X_R2L) \n",
    "scaler6 = preprocessing.StandardScaler().fit(X_U2R)\n",
    "X_U2R=scaler6.transform(X_U2R) "
   ]
  },
  {
   "cell_type": "markdown",
   "metadata": {},
   "source": [
    "# Step 3: Feature Selection:（RFE）\n",
    "获取每个特征的方式：将训练集切割成四个部分（normal加上对应的攻击部分）来获取四种攻击方式的特征             \n",
    "\n",
    "首先，使用 RFE 从 NSL-KDD 数据集中选择一部分特征，这些特征对入侵检测任务有较高的相关性。"
   ]
  },
  {
   "cell_type": "markdown",
   "metadata": {},
   "source": [
    "## dos"
   ]
  },
  {
   "cell_type": "code",
   "execution_count": 15,
   "metadata": {},
   "outputs": [
    {
     "name": "stdout",
     "output_type": "stream",
     "text": [
      "Automatically created module for IPython interactive environment\n",
      "Optimal number of features : 75\n",
      "Ranking of features : [ 1  1  1  1  1  1  1  1  1  1  1  5  1  1 20  1 16  8  2  1  1  1  1  1\n",
      "  1  1  1  1  1  1  1  1  1  1  1  1  1  1  1  1  1  1  1 10 45 11 14 38\n",
      " 36 18 22 23  1  1 21  1  1 40 42  1  1  1 27  7  1  1 19 25 15  1  1 12\n",
      "  6 13 44  1 46 24  1  1 29 30  3  1 34  1 26 33 37 28  1  1 32 47 39  1\n",
      " 17 43 41 31 35  1  1  1  1  4  1  1  9  1  1  1  1  1  1  1  1  1  1  1\n",
      "  1 48]\n"
     ]
    }
   ],
   "source": [
    "print(__doc__)\n",
    "from sklearn.ensemble import RandomForestClassifier\n",
    "import matplotlib.pyplot as plt\n",
    "from sklearn.feature_selection import RFECV\n",
    "from sklearn.model_selection import StratifiedKFold\n",
    "class_weights={0:1,1:14.66}\n",
    "\n",
    "Dos_clf = RandomForestClassifier(random_state=0,class_weight=class_weights)\n",
    "rfecv_dos = RFECV(estimator=Dos_clf,step=1,cv=10,scoring='accuracy')\n",
    "rfecv_dos.fit(X_DoS, Y_DoS)\n",
    "\n",
    "print(\"Optimal number of features : %d\" % rfecv_dos.n_features_)\n",
    "print(\"Ranking of features : %s\" % rfecv_dos.ranking_)\n",
    "\n"
   ]
  },
  {
   "cell_type": "code",
   "execution_count": 16,
   "metadata": {},
   "outputs": [
    {
     "data": {
      "image/png": "[encoded data removed]",
      "text/plain": [
       "<matplotlib.figure.Figure at 0x28b686225c0>"
      ]
     },
     "metadata": {
      "needs_background": "light"
     },
     "output_type": "display_data"
    }
   ],
   "source": [
    "# Plot number of features VS. cross-validation scores\n",
    "plt.figure()\n",
    "plt.xlabel(\"Number of features selected\")\n",
    "plt.ylabel(\"Cross validation score (nb of correct classifications)\")\n",
    "plt.title('RFECV DoS')\n",
    "plt.plot(range(1, len(rfecv_dos.grid_scores_) + 1), rfecv_dos.grid_scores_)\n",
    "plt.show()"
   ]
  },
  {
   "cell_type": "code",
   "execution_count": 17,
   "metadata": {},
   "outputs": [
    {
     "name": "stdout",
     "output_type": "stream",
     "text": [
      "[0.90953469 0.97135161 0.97196961 0.99388189 0.99563876 0.99630091\n",
      " 0.9970513  0.99850801 0.99871989 0.99908185 0.99906419 0.99912599\n",
      " 0.99920545 0.9993467  0.99937318 0.99949678 0.99961155 0.99957624\n",
      " 0.99958507 0.99968218 0.999691   0.999691   0.99969101 0.99963803\n",
      " 0.99971749 0.99979695 0.99974397 0.99971749 0.99977929 0.99972632\n",
      " 0.99973515 0.99971749 0.99976163 0.99972632 0.9997528  0.9997528\n",
      " 0.99977929 0.99977929 0.9998146  0.99976163 0.9997528  0.99978812\n",
      " 0.99976163 0.99980577 0.99977929 0.9997528  0.99973515 0.99977046\n",
      " 0.99978812 0.99979695 0.99980578 0.99977046 0.9997528  0.99974397\n",
      " 0.9998146  0.9997528  0.99968218 0.99977929 0.99982343 0.99976163\n",
      " 0.99976163 0.99976163 0.9997528  0.99979694 0.99977046 0.99978812\n",
      " 0.99977929 0.99979694 0.99974397 0.99974398 0.99969983 0.99969983\n",
      " 0.9998146  0.99972632 0.99984109 0.9997528  0.99973515 0.99976163\n",
      " 0.99976163 0.99974397 0.99977046 0.9997528  0.99976163 0.99972631\n",
      " 0.99976163 0.9997528  0.99970866 0.99978812 0.99974397 0.99976163\n",
      " 0.99972632 0.99982343 0.99970866 0.99974397 0.99978812 0.99977046\n",
      " 0.99971749 0.99974397 0.99971749 0.99972632 0.99972632 0.99972632\n",
      " 0.99977929 0.9997528  0.99978812 0.99977046 0.99972632 0.99978812\n",
      " 0.9997528  0.99977929 0.99972632 0.99974397 0.99979695 0.99974397\n",
      " 0.99975281 0.99972632 0.99969983 0.9997528  0.99982343 0.9997528\n",
      " 0.9997528  0.99974397]\n"
     ]
    }
   ],
   "source": [
    "print(rfecv_dos.grid_scores_)"
   ]
  },
  {
   "cell_type": "markdown",
   "metadata": {},
   "source": [
    "可以观察到，在第14个特征左右，已经趋于第一次稳定了。那我们就取前9个特征"
   ]
  },
  {
   "cell_type": "code",
   "execution_count": 17,
   "metadata": {},
   "outputs": [],
   "source": [
    "from sklearn.feature_selection import RFE\n",
    "from sklearn.ensemble import RandomForestClassifier\n",
    "class_weights={0:1,1:14.66}\n",
    "Dos_clf = RandomForestClassifier(random_state=0,class_weight=class_weights)\n",
    "\n",
    "rfe_dos = RFE(estimator=Dos_clf, n_features_to_select=21, step=1)\n",
    "rfe_dos.fit(X_DoS, Y_DoS)\n",
    "X_rfeDoS=rfe_dos.transform(X_DoS)\n",
    "true=rfe_dos.support_\n",
    "rfecolindex_DoS=[i for i, x in enumerate(true) if x]\n",
    "rfecolname_DoS=list(colNames[i] for i in rfecolindex_DoS)"
   ]
  },
  {
   "cell_type": "markdown",
   "metadata": {},
   "source": [
    "## Probe"
   ]
  },
  {
   "cell_type": "code",
   "execution_count": 19,
   "metadata": {},
   "outputs": [
    {
     "data": {
      "text/plain": [
       "RFECV(cv=10,\n",
       "   estimator=RandomForestClassifier(bootstrap=True, class_weight={0: 1, 2: 57.775},\n",
       "            criterion='gini', max_depth=None, max_features='auto',\n",
       "            max_leaf_nodes=None, min_impurity_decrease=0.0,\n",
       "            min_impurity_split=None, min_samples_leaf=1,\n",
       "            min_samples_split=2, min_weight_fraction_leaf=0.0,\n",
       "            n_estimators=10, n_jobs=1, oob_score=False, random_state=0,\n",
       "            verbose=0, warm_start=False),\n",
       "   n_jobs=1, scoring='accuracy', step=1, verbose=0)"
      ]
     },
     "execution_count": 19,
     "metadata": {},
     "output_type": "execute_result"
    }
   ],
   "source": [
    "class_weights={0:1,2:57.775}\n",
    "Probe_clf = RandomForestClassifier(random_state=0,class_weight=class_weights)\n",
    "\n",
    "rfecv_probe = RFECV(estimator=Probe_clf,step=1,cv=10,scoring='accuracy')\n",
    "rfecv_probe.fit(X_Probe, Y_Probe)\n",
    "\n"
   ]
  },
  {
   "cell_type": "code",
   "execution_count": 20,
   "metadata": {},
   "outputs": [
    {
     "name": "stdout",
     "output_type": "stream",
     "text": [
      "Optimal number of features : 65\n",
      "Ranking of features : [ 1  1  1  9  6  5  1  1  1  1  1 18  1  1 36  1 20 27  1  1  1  1  1  1\n",
      "  1  1  1  1  1  1  1  1  1  1  1  1  1  1  1  1  1  1  1 53 55  1 54 58\n",
      " 38 21 23 52 17  1 32  1  1 42 44  1  1  1  1  8 26  1 56 15 39 24 47 30\n",
      " 49 33 14 40 22 11 37 19 35  7 29  3  1  1  1 13  1 43  1 31 34 45 12  1\n",
      " 51  1 41 48 16  1  1 25  1  4  1 10 28 46  2  1  1  1  1  1  1  1  1 50\n",
      "  1 57]\n"
     ]
    }
   ],
   "source": [
    "print(\"Optimal number of features : %d\" % rfecv_probe.n_features_)\n",
    "print(\"Ranking of features : %s\" % rfecv_probe.ranking_)"
   ]
  },
  {
   "cell_type": "code",
   "execution_count": 21,
   "metadata": {},
   "outputs": [
    {
     "data": {
      "image/png": "[encoded data removed]",
      "text/plain": [
       "<matplotlib.figure.Figure at 0x28b0035a9e8>"
      ]
     },
     "metadata": {
      "needs_background": "light"
     },
     "output_type": "display_data"
    }
   ],
   "source": [
    "# Plot number of features VS. cross-validation scores\n",
    "plt.figure()\n",
    "plt.xlabel(\"Number of features selected\")\n",
    "plt.ylabel(\"Cross validation score (nb of correct classifications)\")\n",
    "plt.title('RFECV Probe')\n",
    "plt.plot(range(1, len(rfecv_probe.grid_scores_) + 1), rfecv_probe.grid_scores_)\n",
    "plt.show()"
   ]
  },
  {
   "cell_type": "code",
   "execution_count": 22,
   "metadata": {},
   "outputs": [
    {
     "name": "stdout",
     "output_type": "stream",
     "text": [
      "[0.8394789  0.95575892 0.99042972 0.99064491 0.99650627 0.9975443\n",
      " 0.99799999 0.99826581 0.99864555 0.99865821 0.99879744 0.9988734\n",
      " 0.99886074 0.99894936 0.999      0.99902532 0.99903797 0.9991519\n",
      " 0.99905062 0.99898734 0.999      0.99912658 0.99902531 0.99901265\n",
      " 0.99911393 0.99922783 0.99913923 0.99907593 0.99910126 0.99917721\n",
      " 0.99917721 0.99922785 0.99910125 0.99921519 0.99894936 0.99920253\n",
      " 0.99898733 0.99910125 0.99910126 0.99921519 0.99911392 0.99917721\n",
      " 0.99917722 0.9992405  0.99911392 0.99916454 0.99929113 0.99920253\n",
      " 0.99917721 0.99917721 0.99915189 0.99916456 0.99926581 0.99926581\n",
      " 0.99917722 0.99905062 0.9990886  0.99912658 0.99918987 0.99929113\n",
      " 0.99916456 0.99916456 0.99921519 0.99929114 0.9993291  0.99924051\n",
      " 0.99925317 0.99924049 0.99916455 0.99926581 0.99920253 0.99922784\n",
      " 0.99913923 0.99930381 0.99918987 0.99910126 0.99921518 0.99915189\n",
      " 0.99912659 0.99916455 0.99905062 0.99917721 0.99921518 0.9990886\n",
      " 0.99920252 0.99925315 0.99925317 0.99924051 0.99905063 0.99917722\n",
      " 0.99918986 0.99910125 0.99925317 0.99922784 0.99922784 0.9991772\n",
      " 0.99903797 0.99922784 0.99921519 0.99915188 0.99908858 0.99918986\n",
      " 0.9990886  0.99921519 0.99915189 0.99917721 0.9992405  0.99902531\n",
      " 0.99930379 0.99930379 0.99901265 0.99929113 0.99921519 0.99915189\n",
      " 0.99917722 0.99916455 0.99922785 0.9990886  0.99918987 0.99912658\n",
      " 0.99918987 0.99922784]\n"
     ]
    }
   ],
   "source": [
    "print(rfecv_probe.grid_scores_)"
   ]
  },
  {
   "cell_type": "markdown",
   "metadata": {},
   "source": [
    "可以观察到，在12个特征左右"
   ]
  },
  {
   "cell_type": "code",
   "execution_count": 18,
   "metadata": {},
   "outputs": [],
   "source": [
    "class_weights={0:1,2:57.775}\n",
    "Probe_clf = RandomForestClassifier(random_state=0,class_weight=class_weights)\n",
    "\n",
    "rfe_probe = RFE(estimator=Probe_clf, n_features_to_select=15, step=1)\n",
    "rfe_probe.fit(X_Probe, Y_Probe)\n",
    "X_rfeProbe=rfe_probe.transform(X_Probe)\n",
    "true=rfe_probe.support_\n",
    "rfecolindex_Probe=[i for i, x in enumerate(true) if x]\n",
    "rfecolname_Probe=list(colNames[i] for i in rfecolindex_Probe)\n"
   ]
  },
  {
   "cell_type": "markdown",
   "metadata": {},
   "source": [
    "## R2L"
   ]
  },
  {
   "cell_type": "code",
   "execution_count": 24,
   "metadata": {},
   "outputs": [
    {
     "data": {
      "text/plain": [
       "RFECV(cv=10,\n",
       "   estimator=RandomForestClassifier(bootstrap=True, class_weight={0: 1, 3: 676.8},\n",
       "            criterion='gini', max_depth=None, max_features='auto',\n",
       "            max_leaf_nodes=None, min_impurity_decrease=0.0,\n",
       "            min_impurity_split=None, min_samples_leaf=1,\n",
       "            min_samples_split=2, min_weight_fraction_leaf=0.0,\n",
       "            n_estimators=10, n_jobs=1, oob_score=False, random_state=0,\n",
       "            verbose=0, warm_start=False),\n",
       "   n_jobs=1, scoring='accuracy', step=1, verbose=0)"
      ]
     },
     "execution_count": 24,
     "metadata": {},
     "output_type": "execute_result"
    }
   ],
   "source": [
    "class_weights={0:1,3:676.8}\n",
    "R2L_clf = RandomForestClassifier(random_state=0,class_weight=class_weights)\n",
    "\n",
    "rfecv_r2l = RFECV(estimator=R2L_clf,step=1,cv=10,scoring='accuracy')\n",
    "rfecv_r2l.fit(X_R2L, Y_R2L)"
   ]
  },
  {
   "cell_type": "code",
   "execution_count": 25,
   "metadata": {},
   "outputs": [
    {
     "name": "stdout",
     "output_type": "stream",
     "text": [
      "Optimal number of features : 52\n",
      "Ranking of features : [ 1  1  1 16 15  2  1  1  1  1  1  3  1  1  1  1 17 33  1  1  1  1  1  4\n",
      "  1  1  1  1  1  1  1  1  1  1  1  1  1  1  1  1  1  1  1 37 63  1 71 67\n",
      " 69 41 43 65 68  1 47  7 51 53 55  1  1  1 66 64 62  1 42 38 36  1 32 48\n",
      " 20 23 25 12 22 31 59 14 50 27 13 21 40  1 18 35  1 49  1 57 46 54  6  1\n",
      " 56 19 58 45 44  1 39 28  1 29 61 34 60 52 26  9  1  5 24 10  8  1 11 30\n",
      "  1 70]\n"
     ]
    }
   ],
   "source": [
    "print(\"Optimal number of features : %d\" % rfecv_r2l.n_features_)\n",
    "print(\"Ranking of features : %s\" % rfecv_r2l.ranking_)"
   ]
  },
  {
   "cell_type": "code",
   "execution_count": 26,
   "metadata": {},
   "outputs": [
    {
     "data": {
      "image/png": "[encoded data removed]",
      "text/plain": [
       "<matplotlib.figure.Figure at 0x28b003d5550>"
      ]
     },
     "metadata": {
      "needs_background": "light"
     },
     "output_type": "display_data"
    }
   ],
   "source": [
    "# Plot number of features VS. cross-validation scores\n",
    "plt.figure()\n",
    "plt.xlabel(\"Number of features selected\")\n",
    "plt.ylabel(\"Cross validation score (nb of correct classifications)\")\n",
    "plt.title('RFECV R2L')\n",
    "plt.plot(range(1, len(rfecv_r2l.grid_scores_) + 1), rfecv_r2l.grid_scores_)\n",
    "plt.show()"
   ]
  },
  {
   "cell_type": "code",
   "execution_count": 27,
   "metadata": {},
   "outputs": [
    {
     "name": "stdout",
     "output_type": "stream",
     "text": [
      "[0.7252042  0.85153127 0.86291593 0.99167372 0.9919371  0.99476142\n",
      " 0.99717587 0.99855138 0.99872692 0.9986245  0.9988001  0.99878546\n",
      " 0.99863913 0.99888788 0.9986391  0.99891716 0.99890252 0.99896106\n",
      " 0.99890252 0.99888788 0.99903422 0.99896105 0.99901959 0.99890253\n",
      " 0.9990196  0.99904886 0.99903423 0.99897569 0.99896105 0.99899033\n",
      " 0.99900496 0.99900493 0.99903421 0.99907812 0.99903421 0.99906348\n",
      " 0.99896105 0.99903422 0.9990196  0.99890252 0.99904885 0.99903422\n",
      " 0.9991074  0.9990342  0.99910738 0.99900495 0.99901958 0.99907812\n",
      " 0.99894641 0.99897567 0.99910739 0.99918055 0.99890252 0.99894642\n",
      " 0.99903422 0.99900495 0.99893178 0.99903421 0.99901959 0.99900496\n",
      " 0.99901958 0.99891714 0.99896105 0.99909276 0.99888788 0.99904885\n",
      " 0.99899031 0.99887326 0.99896105 0.99899032 0.99910738 0.99907811\n",
      " 0.99916591 0.99888789 0.99900494 0.99904885 0.99891716 0.99899033\n",
      " 0.99900496 0.99901958 0.99909274 0.99896104 0.99903421 0.99893179\n",
      " 0.99900497 0.99899031 0.99899031 0.99901959 0.99910739 0.99899031\n",
      " 0.99903421 0.99915128 0.99897569 0.99900495 0.99896104 0.99890252\n",
      " 0.99900495 0.99884397 0.99907811 0.99890251 0.99899031 0.99909275\n",
      " 0.99888789 0.99896105 0.99900496 0.99893179 0.99885862 0.99896105\n",
      " 0.99888786 0.99907811 0.99893177 0.99896106 0.99896104 0.99897568\n",
      " 0.99904885 0.99896104 0.99900495 0.99894641 0.99890252 0.99888789\n",
      " 0.99884399 0.99906349]\n"
     ]
    }
   ],
   "source": [
    "print(rfecv_r2l.grid_scores_)"
   ]
  },
  {
   "cell_type": "markdown",
   "metadata": {},
   "source": [
    "14个左右"
   ]
  },
  {
   "cell_type": "code",
   "execution_count": 19,
   "metadata": {},
   "outputs": [],
   "source": [
    "class_weights={0:1,3:676.8}\n",
    "R2L_clf = RandomForestClassifier(random_state=0,class_weight=class_weights)\n",
    "\n",
    "rfe_r2l = RFE(estimator=R2L_clf, n_features_to_select=14, step=1)\n",
    "rfe_r2l.fit(X_R2L, Y_R2L)\n",
    "X_rfer2l=rfe_r2l.transform(X_R2L)\n",
    "true=rfe_r2l.support_\n",
    "rfecolindex_r2l=[i for i, x in enumerate(true) if x]\n",
    "rfecolname_r2l=list(colNames[i] for i in rfecolindex_r2l)"
   ]
  },
  {
   "cell_type": "markdown",
   "metadata": {},
   "source": [
    "## U2R"
   ]
  },
  {
   "cell_type": "code",
   "execution_count": 29,
   "metadata": {},
   "outputs": [
    {
     "data": {
      "text/plain": [
       "RFECV(cv=10,\n",
       "   estimator=RandomForestClassifier(bootstrap=True, class_weight={0: 1, 4: 12950},\n",
       "            criterion='gini', max_depth=None, max_features='auto',\n",
       "            max_leaf_nodes=None, min_impurity_decrease=0.0,\n",
       "            min_impurity_split=None, min_samples_leaf=1,\n",
       "            min_samples_split=2, min_weight_fraction_leaf=0.0,\n",
       "            n_estimators=10, n_jobs=1, oob_score=False, random_state=0,\n",
       "            verbose=0, warm_start=False),\n",
       "   n_jobs=1, scoring='accuracy', step=1, verbose=0)"
      ]
     },
     "execution_count": 29,
     "metadata": {},
     "output_type": "execute_result"
    }
   ],
   "source": [
    "class_weights={0:1,4:12950}\n",
    "U2R_clf = RandomForestClassifier(random_state=0,class_weight=class_weights)\n",
    "\n",
    "rfecv_u2r = RFECV(estimator=U2R_clf,step=1,cv=10,scoring='accuracy')\n",
    "rfecv_u2r.fit(X_U2R, Y_U2R)"
   ]
  },
  {
   "cell_type": "code",
   "execution_count": 30,
   "metadata": {},
   "outputs": [
    {
     "name": "stdout",
     "output_type": "stream",
     "text": [
      "Optimal number of features : 102\n",
      "Ranking of features : [ 1  1  1  1  1  1  1  1  1  1  1  1  1  1  1  1  1  1  1  1  1  1  1  1\n",
      "  1  1  1  1  1  1  1  1  1  1  1  1  1  1  1  1  1  1  1  1 14  1  1 17\n",
      "  1 16 15 20  1  1  1  1  1  5  7  1  1  1  1  1  1  1  1  2  1  1  1  1\n",
      "  1  1  1  1  1  1  4  1  1  1 18  1  1  1 12 13  1  1  1  3 19 11  1  1\n",
      "  9  1  1  6  1  1  1  1  1  1  1  1  8 10  1  1  1  1  1  1  1  1  1  1\n",
      "  1 21]\n"
     ]
    }
   ],
   "source": [
    "print(\"Optimal number of features : %d\" % rfecv_u2r.n_features_)\n",
    "print(\"Ranking of features : %s\" % rfecv_u2r.ranking_)"
   ]
  },
  {
   "cell_type": "code",
   "execution_count": 31,
   "metadata": {},
   "outputs": [
    {
     "data": {
      "image/png": "[encoded data removed]",
      "text/plain": [
       "<matplotlib.figure.Figure at 0x28b004267b8>"
      ]
     },
     "metadata": {
      "needs_background": "light"
     },
     "output_type": "display_data"
    }
   ],
   "source": [
    "# Plot number of features VS. cross-validation scores\n",
    "plt.figure()\n",
    "plt.xlabel(\"Number of features selected\")\n",
    "plt.ylabel(\"Cross validation score (nb of correct classifications)\")\n",
    "plt.title('RFECV U2R')\n",
    "plt.plot(range(1, len(rfecv_u2r.grid_scores_) + 1), rfecv_u2r.grid_scores_)\n",
    "plt.show()"
   ]
  },
  {
   "cell_type": "code",
   "execution_count": 32,
   "metadata": {},
   "outputs": [
    {
     "name": "stdout",
     "output_type": "stream",
     "text": [
      "[0.92552843 0.93621169 0.96891589 0.99192879 0.99508911 0.99813058\n",
      " 0.99836799 0.99921358 0.99931746 0.99930261 0.99930262 0.99939164\n",
      " 0.99940648 0.99946584 0.99955487 0.99946584 0.99954002 0.99949552\n",
      " 0.99948068 0.99948068 0.99948068 0.99951035 0.99951035 0.99949552\n",
      " 0.99946584 0.999451   0.99946583 0.99948068 0.99948067 0.99942133\n",
      " 0.99948067 0.99940649 0.99946585 0.99948068 0.99955487 0.99949553\n",
      " 0.99954004 0.99954003 0.99943616 0.99949552 0.99952518 0.99949551\n",
      " 0.99949551 0.99954003 0.99951036 0.99951035 0.99948068 0.99949551\n",
      " 0.99954003 0.99952519 0.99948067 0.99949551 0.99954002 0.99949552\n",
      " 0.99956971 0.99948068 0.99946584 0.99949552 0.99951035 0.9995697\n",
      " 0.99949552 0.99951035 0.99951035 0.99946584 0.99951035 0.99955486\n",
      " 0.99949551 0.99949552 0.99946584 0.99951036 0.99952519 0.99955486\n",
      " 0.99949551 0.99951035 0.99951035 0.99943617 0.99951035 0.9995252\n",
      " 0.99952519 0.99954003 0.99952519 0.99951035 0.99948068 0.99955487\n",
      " 0.99952519 0.99949551 0.99948068 0.99949552 0.99949551 0.99948068\n",
      " 0.99954003 0.99954003 0.99954003 0.9995252  0.9995697  0.99948067\n",
      " 0.99952519 0.99951035 0.99954002 0.99951035 0.99949551 0.99959938\n",
      " 0.99946584 0.99951035 0.99949552 0.99949552 0.99951036 0.99951035\n",
      " 0.99949551 0.99946583 0.99952519 0.99955487 0.99943617 0.99949552\n",
      " 0.99948067 0.99954004 0.99954002 0.99945101 0.99954003 0.9995252\n",
      " 0.99956971 0.99951036]\n"
     ]
    }
   ],
   "source": [
    "print(rfecv_u2r.grid_scores_)"
   ]
  },
  {
   "cell_type": "markdown",
   "metadata": {},
   "source": [
    "9个特征左右"
   ]
  },
  {
   "cell_type": "code",
   "execution_count": 20,
   "metadata": {},
   "outputs": [],
   "source": [
    "class_weights={0:1,4:12950}\n",
    "U2R_clf = RandomForestClassifier(random_state=0,class_weight=class_weights)\n",
    "\n",
    "rfe_u2r = RFE(estimator=U2R_clf, n_features_to_select=15, step=1)\n",
    "rfe_u2r.fit(X_U2R, Y_U2R)\n",
    "X_rfeu2r=rfe_u2r.transform(X_U2R)\n",
    "true=rfe_u2r.support_\n",
    "rfecolindex_u2r=[i for i, x in enumerate(true) if x]\n",
    "rfecolname_u2r=list(colNames[i] for i in rfecolindex_u2r)"
   ]
  },
  {
   "cell_type": "markdown",
   "metadata": {},
   "source": [
    "## Normal"
   ]
  },
  {
   "cell_type": "code",
   "execution_count": 34,
   "metadata": {},
   "outputs": [
    {
     "name": "stdout",
     "output_type": "stream",
     "text": [
      "Optimal number of features : 51\n",
      "Ranking of features : [ 1  1  1 17  1 25  1  1  1  1  1 22  1  1 15  2 70 69  1  1  1  1  1  1\n",
      "  1  1  1  1  1  1  1  1  1  1  1  1  1  1  1  1  1 11 13 33 62  9 68 53\n",
      " 54 18 23 31 36  1 27  1  1 67 40  1  1  1  4 61 52  1 72 56 66 10 38 55\n",
      " 64 58 41  6 32 28 57 65 48 45 50 16 35  1  7 24 39 59  1 46 30 60 47  3\n",
      " 49 21 34 51 29  1 42 19 14 63  5 12 71 37 43 26  1  1  8  1  1  1 20 44\n",
      "  1  1]\n"
     ]
    }
   ],
   "source": [
    "class_weights={0:10,1:1,2:1,3:1,4:1}\n",
    "clf = RandomForestClassifier(random_state=0,class_weight=class_weights)\n",
    "rfecv = RFECV(estimator=clf,step=1,cv=10,scoring='accuracy')\n",
    "rfecv.fit(X, Y)\n",
    "\n",
    "print(\"Optimal number of features : %d\" % rfecv.n_features_)\n",
    "print(\"Ranking of features : %s\" % rfecv.ranking_)"
   ]
  },
  {
   "cell_type": "code",
   "execution_count": 35,
   "metadata": {},
   "outputs": [
    {
     "data": {
      "image/png": "[encoded data removed]",
      "text/plain": [
       "<matplotlib.figure.Figure at 0x28b0038c5c0>"
      ]
     },
     "metadata": {
      "needs_background": "light"
     },
     "output_type": "display_data"
    }
   ],
   "source": [
    "# Plot number of features VS. cross-validation scores\n",
    "plt.figure()\n",
    "plt.xlabel(\"Number of features selected\")\n",
    "plt.ylabel(\"Cross validation score (nb of correct classifications)\")\n",
    "plt.title('RFECV Normal')\n",
    "plt.plot(range(1, len(rfecv.grid_scores_) + 1), rfecv.grid_scores_)\n",
    "plt.show()"
   ]
  },
  {
   "cell_type": "code",
   "execution_count": 36,
   "metadata": {},
   "outputs": [
    {
     "name": "stdout",
     "output_type": "stream",
     "text": [
      "[0.8392749  0.95475987 0.9652783  0.97538314 0.98042393 0.99123629\n",
      " 0.99311762 0.99505448 0.99591975 0.99638809 0.99662627 0.99690408\n",
      " 0.99719781 0.99756297 0.99777732 0.99795989 0.99793608 0.99794403\n",
      " 0.9980631  0.99819009 0.99809483 0.99797578 0.99808691 0.99812661\n",
      " 0.99838856 0.99826155 0.998206   0.99834887 0.99826949 0.9982536\n",
      " 0.99838063 0.99837269 0.99850763 0.99846793 0.99838856 0.99849177\n",
      " 0.99856321 0.99858702 0.99857113 0.99857907 0.99853146 0.99853143\n",
      " 0.99857907 0.99857907 0.99852349 0.99865845 0.99861083 0.99859494\n",
      " 0.99859495 0.99851555 0.99876165 0.99864258 0.99859494 0.99855526\n",
      " 0.99869021 0.99857907 0.99855525 0.99849172 0.99871402 0.99849971\n",
      " 0.99857115 0.99858701 0.99869021 0.99857907 0.99872196 0.99863464\n",
      " 0.99867433 0.99856319 0.99853937 0.99868226 0.99844412 0.99849176\n",
      " 0.99868227 0.99853938 0.99867434 0.9985632  0.99856319 0.99870608\n",
      " 0.99854733 0.9984997  0.99857113 0.99843621 0.99853145 0.99850765\n",
      " 0.99855525 0.99857907 0.99855526 0.99845206 0.99851559 0.99855526\n",
      " 0.99855526 0.99853146 0.9986902  0.99863465 0.99856319 0.99844411\n",
      " 0.9984997  0.99853146 0.99848381 0.99850763 0.99846793 0.99865846\n",
      " 0.99873784 0.99857907 0.99864258 0.9985632  0.99853145 0.99842826\n",
      " 0.99842032 0.99853938 0.99848381 0.99867434 0.99851556 0.99855525\n",
      " 0.99843619 0.99842825 0.99852352 0.99855526 0.99841238 0.99850762\n",
      " 0.99850762 0.99858701]\n"
     ]
    }
   ],
   "source": [
    "print(rfecv.grid_scores_)"
   ]
  },
  {
   "cell_type": "code",
   "execution_count": 21,
   "metadata": {},
   "outputs": [],
   "source": [
    "class_weights={0:10,1:1,2:1,3:1,4:1}\n",
    "clf = RandomForestClassifier(random_state=0,class_weight=class_weights)\n",
    "\n",
    "rfe_normal = RFE(estimator=clf, n_features_to_select=16, step=1)\n",
    "rfe_normal.fit(X, Y)\n",
    "X_rfe=rfe_normal.transform(X)\n",
    "true=rfe_normal.support_\n",
    "rfecolindex_normal=[i for i, x in enumerate(true) if x]\n",
    "rfecolname_normal=list(colNames[i] for i in rfecolindex_normal)"
   ]
  },
  {
   "cell_type": "code",
   "execution_count": 22,
   "metadata": {},
   "outputs": [
    {
     "name": "stdout",
     "output_type": "stream",
     "text": [
      "Features selected for DoS: ['src_bytes', 'dst_bytes', 'wrong_fragment', 'hot', 'logged_in', 'num_compromised', 'count', 'srv_count', 'srv_serror_rate', 'dst_host_srv_count', 'dst_host_diff_srv_rate', 'dst_host_srv_diff_host_rate', 'dst_host_serror_rate', 'dst_host_rerror_rate', 'dst_host_srv_rerror_rate', 'Protocol_type_icmp', 'Protocol_type_tcp', 'service_domain_u', 'service_ecr_i', 'service_http', 'flag_S0']\n",
      "\n",
      "Features selected for Probe: ['src_bytes', 'dst_bytes', 'logged_in', 'rerror_rate', 'dst_host_count', 'dst_host_srv_count', 'dst_host_same_srv_rate', 'dst_host_diff_srv_rate', 'dst_host_same_src_port_rate', 'dst_host_srv_diff_host_rate', 'dst_host_rerror_rate', 'Protocol_type_tcp', 'service_domain_u', 'service_http', 'service_private']\n",
      "\n",
      "Features selected for R2L: ['src_bytes', 'dst_bytes', 'hot', 'count', 'srv_count', 'dst_host_count', 'dst_host_srv_count', 'dst_host_same_srv_rate', 'dst_host_diff_srv_rate', 'dst_host_same_src_port_rate', 'Protocol_type_tcp', 'Protocol_type_udp', 'service_http', 'service_smtp']\n",
      "\n",
      "Features selected for U2R: ['duration', 'src_bytes', 'dst_bytes', 'is_guest_login', 'count', 'srv_count', 'srv_diff_host_rate', 'dst_host_count', 'dst_host_srv_count', 'dst_host_diff_srv_rate', 'dst_host_same_src_port_rate', 'dst_host_serror_rate', 'service_finger', 'service_http', 'service_smtp']\n",
      "\n",
      "Features selected for NORMAL: ['src_bytes', 'dst_bytes', 'count', 'srv_count', 'same_srv_rate', 'dst_host_srv_count', 'dst_host_same_srv_rate', 'dst_host_diff_srv_rate', 'dst_host_same_src_port_rate', 'dst_host_serror_rate', 'dst_host_srv_serror_rate', 'dst_host_rerror_rate', 'dst_host_srv_rerror_rate', 'service_eco_i', 'service_private', 'flag_S0']\n"
     ]
    }
   ],
   "source": [
    "print('Features selected for DoS:',rfecolname_DoS)\n",
    "print()\n",
    "print('Features selected for Probe:',rfecolname_Probe)\n",
    "print()\n",
    "print('Features selected for R2L:',rfecolname_r2l)\n",
    "print()\n",
    "print('Features selected for U2R:',rfecolname_u2r)\n",
    "print()\n",
    "print('Features selected for NORMAL:',rfecolname_normal)"
   ]
  },
  {
   "cell_type": "code",
   "execution_count": 30,
   "metadata": {},
   "outputs": [
    {
     "name": "stdout",
     "output_type": "stream",
     "text": [
      "['duration', 'Protocol_type_udp', 'dst_host_srv_diff_host_rate', 'Protocol_type_tcp', 'flag_S0', 'dst_host_diff_srv_rate', 'dst_host_rerror_rate', 'logged_in', 'dst_host_same_src_port_rate', 'src_bytes', 'rerror_rate', 'service_http', 'count', 'Protocol_type_icmp', 'dst_host_same_srv_rate', 'is_guest_login', 'srv_count', 'dst_host_srv_count', 'service_ecr_i', 'dst_host_srv_rerror_rate', 'srv_serror_rate', 'dst_bytes', 'dst_host_count', 'dst_host_serror_rate', 'service_eco_i', 'same_srv_rate', 'service_finger', 'srv_diff_host_rate', 'wrong_fragment', 'dst_host_srv_serror_rate', 'service_domain_u', 'service_private', 'service_smtp', 'hot', 'num_compromised']\n",
      "column列表中的项数为: 35\n"
     ]
    }
   ],
   "source": [
    "# 将四个变量的值取并集\n",
    "combined_features = set(rfecolname_DoS) | set(rfecolname_Probe) | set(rfecolname_r2l) | set(rfecolname_u2r) | set(rfecolname_normal)\n",
    "\n",
    "# 将并集转换为列表，以便输出到新变量中\n",
    "combined_features_list = list(combined_features)\n",
    "\n",
    "# 输出到新变量column中\n",
    "column = combined_features_list\n",
    "print(column)\n",
    "\n",
    "# 计算列表长度\n",
    "num_items = len(column)\n",
    "\n",
    "# 输出列表中的项数\n",
    "print(\"column列表中的项数为:\", num_items)"
   ]
  },
  {
   "cell_type": "code",
   "execution_count": 31,
   "metadata": {},
   "outputs": [],
   "source": [
    "# 将数据集分割为特征（X）和目标变量（Y）\n",
    "# assign X as a dataframe of feautures and Y as a series of outcome variables\n",
    "X_RFE = newdf[combined_features_list]\n",
    "Y_RFE = newdf.label\n",
    "\n",
    "X_test_RFE = newdf_test[combined_features_list]\n",
    "Y_test_RFE = newdf_test.label\n",
    "#colNames 就是一个包含 X 中所有列名称的列表\n",
    "colNames=list(X_RFE)"
   ]
  },
  {
   "cell_type": "code",
   "execution_count": 32,
   "metadata": {},
   "outputs": [
    {
     "data": {
      "text/plain": [
       "['duration',\n",
       " 'Protocol_type_udp',\n",
       " 'dst_host_srv_diff_host_rate',\n",
       " 'Protocol_type_tcp',\n",
       " 'flag_S0',\n",
       " 'dst_host_diff_srv_rate',\n",
       " 'dst_host_rerror_rate',\n",
       " 'logged_in',\n",
       " 'dst_host_same_src_port_rate',\n",
       " 'src_bytes',\n",
       " 'rerror_rate',\n",
       " 'service_http',\n",
       " 'count',\n",
       " 'Protocol_type_icmp',\n",
       " 'dst_host_same_srv_rate',\n",
       " 'is_guest_login',\n",
       " 'srv_count',\n",
       " 'dst_host_srv_count',\n",
       " 'service_ecr_i',\n",
       " 'dst_host_srv_rerror_rate',\n",
       " 'srv_serror_rate',\n",
       " 'dst_bytes',\n",
       " 'dst_host_count',\n",
       " 'dst_host_serror_rate',\n",
       " 'service_eco_i',\n",
       " 'same_srv_rate',\n",
       " 'service_finger',\n",
       " 'srv_diff_host_rate',\n",
       " 'wrong_fragment',\n",
       " 'dst_host_srv_serror_rate',\n",
       " 'service_domain_u',\n",
       " 'service_private',\n",
       " 'service_smtp',\n",
       " 'hot',\n",
       " 'num_compromised']"
      ]
     },
     "execution_count": 32,
     "metadata": {},
     "output_type": "execute_result"
    }
   ],
   "source": [
    "colNames"
   ]
  },
  {
   "cell_type": "code",
   "execution_count": 33,
   "metadata": {},
   "outputs": [],
   "source": [
    "from sklearn import preprocessing\n",
    "#全部特征\n",
    "scaler8 = preprocessing.StandardScaler().fit(X_RFE)\n",
    "X_RFE=scaler8.transform(X_RFE) \n",
    "\n",
    "scaler9 = preprocessing.StandardScaler().fit(X_test_RFE)\n",
    "X_test_RFE=scaler9.transform(X_test_RFE) "
   ]
  },
  {
   "cell_type": "markdown",
   "metadata": {},
   "source": [
    "RFE（递归特征消除）：\n",
    "RFE 是一种特征选择方法，它通过逐步剔除不重要的特征来选择最优的特征子集。\n",
    "在 NSL-KDD 数据集中，您可以使用 RFE 来排除那些对入侵检测任务不太相关的特征。\n",
    "PCA（主成分分析）：\n",
    "PCA 是一种降维技术，它将高维数据映射到低维空间，保留最重要的特征。\n",
    "在 NSL-KDD 数据集中，您可以使用 PCA 来减少特征的维度，同时保留数据的主要信息。\n",
    "结合方法：\n",
    "首先，使用 RFE 从 NSL-KDD 数据集中选择一部分特征，这些特征对入侵检测任务有较高的相关性。\n",
    "然后，将选定的特征输入到 PCA 中，将其映射到低维空间。\n",
    "最终，您将得到一个具有较少特征且保留主要信息的数据集。"
   ]
  },
  {
   "cell_type": "code",
   "execution_count": 34,
   "metadata": {},
   "outputs": [
    {
     "name": "stdout",
     "output_type": "stream",
     "text": [
      "训练时间: 0.66 秒\n"
     ]
    }
   ],
   "source": [
    "from sklearn.ensemble import RandomForestClassifier\n",
    "start_time = time.time()\n",
    "\n",
    "clf=RandomForestClassifier(random_state=0)\n",
    "clf.fit(X_RFE, Y_RFE)\n",
    "end_time = time.time()\n",
    "# 计算执行时间\n",
    "training_time = end_time - start_time\n",
    "print(f\"训练时间: {training_time:.2f} 秒\")"
   ]
  },
  {
   "cell_type": "code",
   "execution_count": 35,
   "metadata": {},
   "outputs": [
    {
     "data": {
      "text/html": [
       "<div>\n",
       "<style scoped>\n",
       "    .dataframe tbody tr th:only-of-type {\n",
       "        vertical-align: middle;\n",
       "    }\n",
       "\n",
       "    .dataframe tbody tr th {\n",
       "        vertical-align: top;\n",
       "    }\n",
       "\n",
       "    .dataframe thead th {\n",
       "        text-align: right;\n",
       "    }\n",
       "</style>\n",
       "<table border=\"1\" class=\"dataframe\">\n",
       "  <thead>\n",
       "    <tr style=\"text-align: right;\">\n",
       "      <th>Predicted attacks</th>\n",
       "      <th>0</th>\n",
       "      <th>1</th>\n",
       "      <th>2</th>\n",
       "      <th>3</th>\n",
       "      <th>4</th>\n",
       "    </tr>\n",
       "    <tr>\n",
       "      <th>Actual attacks</th>\n",
       "      <th></th>\n",
       "      <th></th>\n",
       "      <th></th>\n",
       "      <th></th>\n",
       "      <th></th>\n",
       "    </tr>\n",
       "  </thead>\n",
       "  <tbody>\n",
       "    <tr>\n",
       "      <th>0</th>\n",
       "      <td>9580</td>\n",
       "      <td>11</td>\n",
       "      <td>8</td>\n",
       "      <td>109</td>\n",
       "      <td>3</td>\n",
       "    </tr>\n",
       "    <tr>\n",
       "      <th>1</th>\n",
       "      <td>20</td>\n",
       "      <td>7433</td>\n",
       "      <td>5</td>\n",
       "      <td>0</td>\n",
       "      <td>0</td>\n",
       "    </tr>\n",
       "    <tr>\n",
       "      <th>2</th>\n",
       "      <td>31</td>\n",
       "      <td>8</td>\n",
       "      <td>2377</td>\n",
       "      <td>2</td>\n",
       "      <td>3</td>\n",
       "    </tr>\n",
       "    <tr>\n",
       "      <th>3</th>\n",
       "      <td>129</td>\n",
       "      <td>2</td>\n",
       "      <td>3</td>\n",
       "      <td>2616</td>\n",
       "      <td>4</td>\n",
       "    </tr>\n",
       "    <tr>\n",
       "      <th>4</th>\n",
       "      <td>18</td>\n",
       "      <td>0</td>\n",
       "      <td>2</td>\n",
       "      <td>18</td>\n",
       "      <td>162</td>\n",
       "    </tr>\n",
       "  </tbody>\n",
       "</table>\n",
       "</div>"
      ],
      "text/plain": [
       "Predicted attacks     0     1     2     3    4\n",
       "Actual attacks                                \n",
       "0                  9580    11     8   109    3\n",
       "1                    20  7433     5     0    0\n",
       "2                    31     8  2377     2    3\n",
       "3                   129     2     3  2616    4\n",
       "4                    18     0     2    18  162"
      ]
     },
     "execution_count": 35,
     "metadata": {},
     "output_type": "execute_result"
    }
   ],
   "source": [
    "from sklearn.model_selection import cross_val_predict\n",
    "from sklearn.metrics import confusion_matrix\n",
    "# 使用 cross_val_predict 进行交叉验证预测\n",
    "y_pred = cross_val_predict(clf, X_test_RFE, Y_test_RFE, cv=10)\n",
    "\n",
    "# 混淆矩阵\n",
    "pd.crosstab(Y_test_RFE, y_pred, rownames=['Actual attacks'], colnames=['Predicted attacks'])\n",
    "\n"
   ]
  },
  {
   "cell_type": "code",
   "execution_count": 36,
   "metadata": {},
   "outputs": [
    {
     "name": "stdout",
     "output_type": "stream",
     "text": [
      "             precision    recall  f1-score   support\n",
      "\n",
      "          0      0.980     0.987     0.983      9711\n",
      "          1      0.997     0.997     0.997      7458\n",
      "          2      0.992     0.982     0.987      2421\n",
      "          3      0.953     0.950     0.951      2754\n",
      "          4      0.942     0.810     0.871       200\n",
      "\n",
      "avg / total      0.983     0.983     0.983     22544\n",
      "\n"
     ]
    }
   ],
   "source": [
    "from sklearn.metrics import confusion_matrix,classification_report,accuracy_score,roc_auc_score,f1_score\n",
    "print(classification_report(Y_test_RFE, y_pred, digits=3))"
   ]
  },
  {
   "cell_type": "code",
   "execution_count": 37,
   "metadata": {},
   "outputs": [
    {
     "name": "stdout",
     "output_type": "stream",
     "text": [
      "                  Accuracy\n",
      "0                 0.986510\n",
      "1                 0.996648\n",
      "2                 0.981826\n",
      "3                 0.949891\n",
      "4                 0.810000\n",
      "Overall Accuracy  0.983322\n"
     ]
    }
   ],
   "source": [
    "from sklearn.metrics import confusion_matrix\n",
    "\n",
    "# 计算混淆矩阵\n",
    "conf_matrix = confusion_matrix(Y_test_RFE, y_pred)\n",
    "\n",
    "# 提取各分类的真正例、假正例、真负例、假负例\n",
    "true_positives = np.diag(conf_matrix)\n",
    "false_positives = np.sum(conf_matrix, axis=0) - true_positives\n",
    "false_negatives = np.sum(conf_matrix, axis=1) - true_positives\n",
    "true_negatives = np.sum(conf_matrix) - (true_positives + false_positives + false_negatives)\n",
    "\n",
    "# 计算各分类的准确率\n",
    "class_accuracies = true_positives / (true_positives + false_negatives)\n",
    "\n",
    "# 将整体准确率加入到列表中\n",
    "overall_accuracy = np.sum(true_positives) / np.sum(conf_matrix)\n",
    "\n",
    "# 创建包含准确率的数据帧\n",
    "index = [str(i) for i in range(len(class_accuracies))] + ['Overall Accuracy']\n",
    "df_ac = pd.DataFrame({'Accuracy': np.append(class_accuracies, overall_accuracy)}, index=index)\n",
    "\n",
    "# 打印数据帧\n",
    "print(df_ac)"
   ]
  },
  {
   "cell_type": "code",
   "execution_count": null,
   "metadata": {},
   "outputs": [],
   "source": []
  },
  {
   "cell_type": "code",
   "execution_count": null,
   "metadata": {},
   "outputs": [],
   "source": []
  },
  {
   "cell_type": "code",
   "execution_count": null,
   "metadata": {},
   "outputs": [],
   "source": []
  }
 ],
 "metadata": {
  "kernelspec": {
   "display_name": "tensorflow",
   "language": "python",
   "name": "python3"
  },
  "language_info": {
   "codemirror_mode": {
    "name": "ipython",
    "version": 3
   },
   "file_extension": ".py",
   "mimetype": "text/x-python",
   "name": "python",
   "nbconvert_exporter": "python",
   "pygments_lexer": "ipython3",
   "version": "3.6.13"
  }
 },
 "nbformat": 4,
 "nbformat_minor": 2
}
