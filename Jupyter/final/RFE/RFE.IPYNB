{
 "cells": [
  {
   "cell_type": "code",
   "execution_count": 1,
   "metadata": {},
   "outputs": [],
   "source": [
    "import pandas as pd\n",
    "import numpy as np\n",
    "import sklearn\n",
    "import os\n",
    "import matplotlib.pyplot as plt\n",
    "import time"
   ]
  },
  {
   "cell_type": "code",
   "execution_count": 2,
   "metadata": {},
   "outputs": [
    {
     "name": "stdout",
     "output_type": "stream",
     "text": [
      "Dimensions of the Training set: (125973, 42)\n",
      "Dimensions of the Test set: (22544, 42)\n"
     ]
    }
   ],
   "source": [
    "# 加载数据库的列名\n",
    "col_names = [\"duration\",\"protocol_type\",\"service\",\"flag\",\"src_bytes\",\n",
    "    \"dst_bytes\",\"land\",\"wrong_fragment\",\"urgent\",\"hot\",\"num_failed_logins\",\n",
    "    \"logged_in\",\"num_compromised\",\"root_shell\",\"su_attempted\",\"num_root\",\n",
    "    \"num_file_creations\",\"num_shells\",\"num_access_files\",\"num_outbound_cmds\",\n",
    "    \"is_host_login\",\"is_guest_login\",\"count\",\"srv_count\",\"serror_rate\",\n",
    "    \"srv_serror_rate\",\"rerror_rate\",\"srv_rerror_rate\",\"same_srv_rate\",\n",
    "    \"diff_srv_rate\",\"srv_diff_host_rate\",\"dst_host_count\",\"dst_host_srv_count\",\n",
    "    \"dst_host_same_srv_rate\",\"dst_host_diff_srv_rate\",\"dst_host_same_src_port_rate\",\n",
    "    \"dst_host_srv_diff_host_rate\",\"dst_host_serror_rate\",\"dst_host_srv_serror_rate\",\n",
    "    \"dst_host_rerror_rate\",\"dst_host_srv_rerror_rate\",\"label\",\"difficulty_level\"]\n",
    "\n",
    "# 加载训练集和测试集\n",
    "train_path=r\"F:\\Jupyter\\kaggle\\data\\NSL-KDD\\KDDTrain+.txt\"\n",
    "test_path=r\"F:\\Jupyter\\kaggle\\data\\NSL-KDD\\KDDTest+.txt\"\n",
    "df = pd.read_csv(train_path, header=None, names = col_names)\n",
    "df_test = pd.read_csv(test_path, header=None, names = col_names)\n",
    "df.drop('difficulty_level',inplace=True,axis=1)\n",
    "df_test.drop('difficulty_level',inplace=True,axis=1)\n",
    "#数据集的shape\n",
    "print('Dimensions of the Training set:',df.shape)\n",
    "print('Dimensions of the Test set:',df_test.shape)"
   ]
  },
  {
   "cell_type": "markdown",
   "metadata": {},
   "source": [
    "# 分离离散型特征"
   ]
  },
  {
   "cell_type": "code",
   "execution_count": 3,
   "metadata": {},
   "outputs": [],
   "source": [
    "#df_categorical_values————存储了包含'protocol_type'，'service'和'flag'。的训练集数据\n",
    "#testdf_categorical_values——'protocol_type'，'service'和'flag'的测试集数据\n",
    "from sklearn.preprocessing import LabelEncoder,OneHotEncoder\n",
    "\n",
    "\n",
    "categorical_columns=['protocol_type', 'service', 'flag'] \n",
    "#将这三个离散特征分离出来\n",
    "df_categorical_values = df[categorical_columns]\n",
    "testdf_categorical_values = df_test[categorical_columns]"
   ]
  },
  {
   "cell_type": "code",
   "execution_count": 4,
   "metadata": {},
   "outputs": [
    {
     "name": "stdout",
     "output_type": "stream",
     "text": [
      "['Protocol_type_icmp', 'Protocol_type_tcp', 'Protocol_type_udp', 'service_IRC', 'service_X11', 'service_Z39_50', 'service_aol', 'service_auth', 'service_bgp', 'service_courier', 'service_csnet_ns', 'service_ctf', 'service_daytime', 'service_discard', 'service_domain', 'service_domain_u', 'service_echo', 'service_eco_i', 'service_ecr_i', 'service_efs', 'service_exec', 'service_finger', 'service_ftp', 'service_ftp_data', 'service_gopher', 'service_harvest', 'service_hostnames', 'service_http', 'service_http_2784', 'service_http_443', 'service_http_8001', 'service_imap4', 'service_iso_tsap', 'service_klogin', 'service_kshell', 'service_ldap', 'service_link', 'service_login', 'service_mtp', 'service_name', 'service_netbios_dgm', 'service_netbios_ns', 'service_netbios_ssn', 'service_netstat', 'service_nnsp', 'service_nntp', 'service_ntp_u', 'service_other', 'service_pm_dump', 'service_pop_2', 'service_pop_3', 'service_printer', 'service_private', 'service_red_i', 'service_remote_job', 'service_rje', 'service_shell', 'service_smtp', 'service_sql_net', 'service_ssh', 'service_sunrpc', 'service_supdup', 'service_systat', 'service_telnet', 'service_tftp_u', 'service_tim_i', 'service_time', 'service_urh_i', 'service_urp_i', 'service_uucp', 'service_uucp_path', 'service_vmnet', 'service_whois', 'flag_OTH', 'flag_REJ', 'flag_RSTO', 'flag_RSTOS0', 'flag_RSTR', 'flag_S0', 'flag_S1', 'flag_S2', 'flag_S3', 'flag_SF', 'flag_SH']\n"
     ]
    }
   ],
   "source": [
    "# protocol type\n",
    "unique_protocol=sorted(df.protocol_type.unique())\n",
    "string1 = 'Protocol_type_'\n",
    "unique_protocol2=[string1 + x for x in unique_protocol]\n",
    "# service\n",
    "unique_service=sorted(df.service.unique())\n",
    "string2 = 'service_'\n",
    "unique_service2=[string2 + x for x in unique_service]\n",
    "# flag\n",
    "unique_flag=sorted(df.flag.unique())\n",
    "string3 = 'flag_'\n",
    "unique_flag2=[string3 + x for x in unique_flag]\n",
    "# 合并\n",
    "dumcols=unique_protocol2 + unique_service2 + unique_flag2\n",
    "print(dumcols)\n",
    "\n",
    "#同理于测试集，由于测试集和训练集只有service有区别，所以只要对service特别处理\n",
    "unique_service_test=sorted(df_test.service.unique())\n",
    "unique_service2_test=[string2 + x for x in unique_service_test]\n",
    "testdumcols=unique_protocol2 + unique_service2_test + unique_flag2"
   ]
  },
  {
   "cell_type": "code",
   "execution_count": 5,
   "metadata": {},
   "outputs": [
    {
     "name": "stdout",
     "output_type": "stream",
     "text": [
      "   protocol_type  service  flag\n",
      "0              1       20     9\n",
      "1              2       44     9\n",
      "2              1       49     5\n",
      "3              1       24     9\n",
      "4              1       24     9\n"
     ]
    }
   ],
   "source": [
    "#df_categorical_values_enc————将dumcols中的类别标签转换为数值。\n",
    "#testdf_categorical_values_enc同理\n",
    "df_categorical_values_enc=df_categorical_values.apply(LabelEncoder().fit_transform)\n",
    "print(df_categorical_values_enc.head())\n",
    "# test set\n",
    "testdf_categorical_values_enc=testdf_categorical_values.apply(LabelEncoder().fit_transform)"
   ]
  },
  {
   "cell_type": "code",
   "execution_count": 6,
   "metadata": {},
   "outputs": [],
   "source": [
    "# df_cat_data----训练集每一行对于提取出来的每个特征作为列向量，若有这个特征就把值设为1，没有就是0\n",
    "# testdf_cat_data\n",
    "\n",
    "enc = OneHotEncoder()\n",
    "df_categorical_values_encenc = enc.fit_transform(df_categorical_values_enc)\n",
    "df_cat_data = pd.DataFrame(df_categorical_values_encenc.toarray(),columns=dumcols)\n",
    "# test set\n",
    "testdf_categorical_values_encenc = enc.fit_transform(testdf_categorical_values_enc)\n",
    "testdf_cat_data = pd.DataFrame(testdf_categorical_values_encenc.toarray(),columns=testdumcols)"
   ]
  },
  {
   "cell_type": "code",
   "execution_count": 7,
   "metadata": {},
   "outputs": [
    {
     "name": "stdout",
     "output_type": "stream",
     "text": [
      "['aol', 'http_2784', 'harvest', 'urh_i', 'red_i', 'http_8001']\n",
      "[]\n"
     ]
    }
   ],
   "source": [
    "trainservice = df['service'].tolist()\n",
    "testservice = df_test['service'].tolist()\n",
    "\n",
    "train_difference = list(set(trainservice) - set(testservice))\n",
    "test_difference = list(set(testservice) - set(trainservice))\n",
    "\n",
    "print(train_difference)\n",
    "print(test_difference)\n",
    "\n",
    "string = 'service_'\n",
    "train_difference = [string + x for x in train_difference]\n",
    "test_difference = [string + x for x in test_difference]"
   ]
  },
  {
   "cell_type": "code",
   "execution_count": 8,
   "metadata": {},
   "outputs": [],
   "source": [
    "for col in train_difference:\n",
    "    testdf_cat_data[col] = 0\n",
    "\n",
    "for col in test_difference:\n",
    "    df_cat_data[col] = 0"
   ]
  },
  {
   "cell_type": "code",
   "execution_count": 9,
   "metadata": {},
   "outputs": [
    {
     "name": "stdout",
     "output_type": "stream",
     "text": [
      "(125973, 123)\n",
      "(22544, 123)\n"
     ]
    }
   ],
   "source": [
    "newdf=df.join(df_cat_data)\n",
    "newdf.drop('flag', axis=1, inplace=True)\n",
    "newdf.drop('protocol_type', axis=1, inplace=True)\n",
    "newdf.drop('service', axis=1, inplace=True)\n",
    "# test data\n",
    "newdf_test=df_test.join(testdf_cat_data)\n",
    "newdf_test.drop('flag', axis=1, inplace=True)\n",
    "newdf_test.drop('protocol_type', axis=1, inplace=True)\n",
    "newdf_test.drop('service', axis=1, inplace=True)\n",
    "print(newdf.shape)\n",
    "print(newdf_test.shape)"
   ]
  },
  {
   "cell_type": "code",
   "execution_count": 10,
   "metadata": {},
   "outputs": [],
   "source": [
    "labeldf=newdf['label']\n",
    "labeldf_test=newdf_test['label']\n",
    "\n",
    "#把.洗掉\n",
    "labeldf = labeldf.str.rstrip('.')\n",
    "labeldf_test = labeldf_test.str.rstrip('.')\n",
    "newlabeldf=labeldf.replace({'normal':0,\n",
    "                            'neptune':1,'back': 1, 'land': 1, 'pod': 1, 'smurf': 1, 'teardrop': 1,'mailbomb': 1, 'apache2': 1, 'processtable': 1, 'udpstorm': 1, \n",
    "                             'ipsweep' : 2,'nmap' : 2,'portsweep' : 2,'satan' : 2,'mscan' : 2,'saint' : 2,\n",
    "                             'ftp_write': 3,'guess_passwd': 3,'imap': 3,'multihop': 3,'phf': 3,'spy': 3,'warezclient': 3,'warezmaster': 3,'sendmail': 3,'named': 3,'snmpgetattack': 3,'snmpguess': 3,'xlock': 3,'xsnoop': 3,'worm': 3,\n",
    "                             'httptunnel': 4,'buffer_overflow': 4,'loadmodule': 4,'perl': 4,'rootkit': 4,'ps': 4,'sqlattack': 4,'xterm': 4})\n",
    "newlabeldf_test=labeldf_test.replace({'normal' : 0,\n",
    "                             'neptune' : 1 ,'back': 1, 'land': 1, 'pod': 1, 'smurf': 1, 'teardrop': 1,'mailbomb': 1, 'apache2': 1, 'processtable': 1, 'udpstorm': 1, \n",
    "                             'ipsweep' : 2,'nmap' : 2,'portsweep' : 2,'satan' : 2,'mscan' : 2,'saint' : 2,\n",
    "                             'ftp_write': 3,'guess_passwd': 3,'imap': 3,'multihop': 3,'phf': 3,'spy': 3,'warezclient': 3,'warezmaster': 3,'sendmail': 3,'named': 3,'snmpgetattack': 3,'snmpguess': 3,'xlock': 3,'xsnoop': 3,'worm': 3,\n",
    "                             'httptunnel': 4,'buffer_overflow': 4,'loadmodule': 4,'perl': 4,'rootkit': 4,'ps': 4,'sqlattack': 4,'xterm': 4})\n",
    "\n",
    "newdf['label'] = newlabeldf\n",
    "newdf_test['label'] = newlabeldf_test\n",
    "# print(newdf['label'].tail())"
   ]
  },
  {
   "cell_type": "code",
   "execution_count": 12,
   "metadata": {},
   "outputs": [
    {
     "name": "stdout",
     "output_type": "stream",
     "text": [
      "Train:\n",
      "Dimensions of DoS: (113270, 123)\n",
      "Dimensions of Probe: (78999, 123)\n",
      "Dimensions of R2L: (68338, 123)\n",
      "Dimensions of U2R: (67395, 123)\n"
     ]
    }
   ],
   "source": [
    "to_drop_DoS = [2,3,4]\n",
    "to_drop_Probe = [1,3,4]\n",
    "to_drop_R2L = [1,2,4]\n",
    "to_drop_U2R = [1,2,3]\n",
    "\n",
    "DoS_df=newdf[~newdf['label'].isin(to_drop_DoS)];\n",
    "Probe_df=newdf[~newdf['label'].isin(to_drop_Probe)];\n",
    "R2L_df=newdf[~newdf['label'].isin(to_drop_R2L)];\n",
    "U2R_df=newdf[~newdf['label'].isin(to_drop_U2R)];\n",
    "\n",
    "print('Train:')\n",
    "print('Dimensions of DoS:' ,DoS_df.shape)\n",
    "print('Dimensions of Probe:' ,Probe_df.shape)\n",
    "print('Dimensions of R2L:' ,R2L_df.shape)\n",
    "print('Dimensions of U2R:' ,U2R_df.shape)"
   ]
  },
  {
   "cell_type": "markdown",
   "metadata": {},
   "source": [
    "# Step 2: 特征缩放"
   ]
  },
  {
   "cell_type": "code",
   "execution_count": 13,
   "metadata": {},
   "outputs": [],
   "source": [
    "# 将数据集分割为特征（X）和目标变量（Y）\n",
    "# assign X as a dataframe of feautures and Y as a series of outcome variables\n",
    "X = newdf.drop('label',axis=1)\n",
    "Y = newdf.label\n",
    "\n",
    "X_test = newdf_test.drop('label',axis=1)\n",
    "Y_test = newdf_test.label\n",
    "\n",
    "# 寻找最佳的特征向量\n",
    "X_DoS = DoS_df.drop('label',axis=1)\n",
    "Y_DoS = DoS_df.label\n",
    "X_Probe = Probe_df.drop('label',axis=1)\n",
    "Y_Probe = Probe_df.label\n",
    "X_R2L = R2L_df.drop('label',axis=1)\n",
    "Y_R2L = R2L_df.label\n",
    "X_U2R = U2R_df.drop('label',axis=1)\n",
    "Y_U2R = U2R_df.label"
   ]
  },
  {
   "cell_type": "markdown",
   "metadata": {},
   "source": [
    "### 保存功能名称列表以备后用（每个攻击类别都相同）。在此阶段将删除列名。"
   ]
  },
  {
   "cell_type": "code",
   "execution_count": 14,
   "metadata": {},
   "outputs": [],
   "source": [
    "#colNames 就是一个包含 X_DoS 中所有列名称的列表\n",
    "colNames=list(X)\n",
    "colNames_test=list(X_test)"
   ]
  },
  {
   "cell_type": "markdown",
   "metadata": {},
   "source": [
    "## 标准化：StandardScaler() \n",
    "``` python\n",
    "scaler1 = preprocessing.StandardScaler().fit(X_DoS) #这行代码创建了一个 StandardScaler 对象 scaler1，并使用 X_DoS 数据计算了均值和标准差。\n",
    "X_DoS=scaler1.transform(X_DoS) #这行代码将 scaler1 的缩放参数应用于 X_DoS，实现标准化。标准化后的数据将具有零均值和单位标准差,并将结果保存回 X_DoS。\n",
    "print(X_DoS.std(axis=0))#代码使用 std 函数检查了每种攻击类型的训练数据的标准差是否为1。如果数据已经正确地标准化，那么其标准差应该接近1。\n",
    "```"
   ]
  },
  {
   "cell_type": "code",
   "execution_count": 15,
   "metadata": {},
   "outputs": [],
   "source": [
    "from sklearn import preprocessing\n",
    "#全部特征\n",
    "scaler1 = preprocessing.StandardScaler().fit(X)\n",
    "X=scaler1.transform(X) \n",
    "\n",
    "scaler2 = preprocessing.StandardScaler().fit(X_test)\n",
    "X_test=scaler2.transform(X_test) \n",
    "\n",
    "#寻找特征向量\n",
    "scaler3 = preprocessing.StandardScaler().fit(X_DoS)\n",
    "X_DoS=scaler3.transform(X_DoS) \n",
    "scaler4 = preprocessing.StandardScaler().fit(X_Probe)\n",
    "X_Probe=scaler4.transform(X_Probe) \n",
    "scaler5 = preprocessing.StandardScaler().fit(X_R2L)\n",
    "X_R2L=scaler5.transform(X_R2L) \n",
    "scaler6 = preprocessing.StandardScaler().fit(X_U2R)\n",
    "X_U2R=scaler6.transform(X_U2R) "
   ]
  },
  {
   "cell_type": "markdown",
   "metadata": {},
   "source": [
    "# Step 3: Feature Selection:（RFE）\n",
    "获取每个特征的方式：将训练集切割成四个部分（normal加上对应的攻击部分）来获取四种攻击方式的特征             \n",
    "\n",
    "首先，使用 RFE 从 NSL-KDD 数据集中选择一部分特征，这些特征对入侵检测任务有较高的相关性。"
   ]
  },
  {
   "cell_type": "markdown",
   "metadata": {},
   "source": [
    "## dos"
   ]
  },
  {
   "cell_type": "code",
   "execution_count": 16,
   "metadata": {},
   "outputs": [
    {
     "name": "stdout",
     "output_type": "stream",
     "text": [
      "Automatically created module for IPython interactive environment\n",
      "Optimal number of features : 17\n",
      "Ranking of features : [ 10   1   1   4   1  21  20  19   1  37  39  38  42  43  44  48  46  49\n",
      "  51   1  17  36  59  63  62  64  56  61  12   1  18   9   1   3   1  15\n",
      "   1   6  93   1  96  97   5  98  66  68  70  72  74  76  78  80  82   1\n",
      "  86   1   1 100 102 104 106  16  95  50  45   1  54  55  53  22  65  58\n",
      "  67  69  77  23  75  73  24  28  30  83  32  89  88   1  94  31  99  34\n",
      "  35   7  41  40  90  14  92  91  84  87  85  79   8   1  81  57   1  60\n",
      "  71  52  47  33  26  27  29  25   2  13  11 101 103 105]\n"
     ]
    }
   ],
   "source": [
    "print(__doc__)\n",
    "from sklearn.tree import DecisionTreeClassifier\n",
    "import matplotlib.pyplot as plt\n",
    "from sklearn.feature_selection import RFECV\n",
    "from sklearn.model_selection import StratifiedKFold\n",
    "\n",
    "class_weights={0:1,1:14.66}\n",
    "Dos_clf = DecisionTreeClassifier(random_state=0,class_weight=class_weights)\n",
    "rfecv_dos = RFECV(estimator=Dos_clf,step=1,cv=10,scoring='accuracy')\n",
    "rfecv_dos.fit(X_DoS, Y_DoS)\n",
    "\n",
    "print(\"Optimal number of features : %d\" % rfecv_dos.n_features_)\n",
    "print(\"Ranking of features : %s\" % rfecv_dos.ranking_)\n",
    "\n"
   ]
  },
  {
   "cell_type": "code",
   "execution_count": 17,
   "metadata": {},
   "outputs": [
    {
     "data": {
      "image/png": "[encoded data removed]",
      "text/plain": [
       "<matplotlib.figure.Figure at 0x26107c10ac8>"
      ]
     },
     "metadata": {
      "needs_background": "light"
     },
     "output_type": "display_data"
    }
   ],
   "source": [
    "# Plot number of features VS. cross-validation scores\n",
    "plt.figure()\n",
    "plt.xlabel(\"Number of features selected\")\n",
    "plt.ylabel(\"Cross validation score (nb of correct classifications)\")\n",
    "plt.title('RFECV DoS')\n",
    "plt.plot(range(1, len(rfecv_dos.grid_scores_) + 1), rfecv_dos.grid_scores_)\n",
    "plt.show()"
   ]
  },
  {
   "cell_type": "code",
   "execution_count": 18,
   "metadata": {},
   "outputs": [
    {
     "name": "stdout",
     "output_type": "stream",
     "text": [
      "[0.90292217 0.97134278 0.99357288 0.99389954 0.99599189 0.99789882\n",
      " 0.99792531 0.99824315 0.99926724 0.99939084 0.99943498 0.99950561\n",
      " 0.99952326 0.99961155 0.99958507 0.99960272 0.99966452 0.99962921\n",
      " 0.9995674  0.99959389 0.99960272 0.99962038 0.9995674  0.99955857\n",
      " 0.99962037 0.99957623 0.99959389 0.99962038 0.99961154 0.99961155\n",
      " 0.99958506 0.99958506 0.99960272 0.99960272 0.99961155 0.99958506\n",
      " 0.9995674  0.99958506 0.99958506 0.99961155 0.99959389 0.99961154\n",
      " 0.99958506 0.99962037 0.99957623 0.99960272 0.99957623 0.99959389\n",
      " 0.99962037 0.99959388 0.99958506 0.99958506 0.99960272 0.99957623\n",
      " 0.9996292  0.99959389 0.9995674  0.99960272 0.99954975 0.99958506\n",
      " 0.99963803 0.99957623 0.99957623 0.99959389 0.99960272 0.99959389\n",
      " 0.99957623 0.99960272 0.99961154 0.99959389 0.9995674  0.99957623\n",
      " 0.99959389 0.99958506 0.99959389 0.99961154 0.9996292  0.99960272\n",
      " 0.9995674  0.99957623 0.99961154 0.99964686 0.99958506 0.99958506\n",
      " 0.99957623 0.99962037 0.99959389 0.99958506 0.99958506 0.99955857\n",
      " 0.99958506 0.99960272 0.9996292  0.99960272 0.99958506 0.99959389\n",
      " 0.99960272 0.99961154 0.99959389 0.99959389 0.99961154 0.99955857\n",
      " 0.99958506 0.99959389 0.9996292  0.9995674  0.99959389 0.99960272\n",
      " 0.9995674  0.99962037 0.99960271 0.99957623 0.9995674  0.99957623\n",
      " 0.99960272 0.99957623 0.99957623 0.99959389 0.99958506 0.99954975\n",
      " 0.9995674  0.99961155]\n"
     ]
    }
   ],
   "source": [
    "print(rfecv_dos.grid_scores_)"
   ]
  },
  {
   "cell_type": "markdown",
   "metadata": {},
   "source": [
    "可以观察到，在第14个特征左右，已经趋于第一次稳定了。那我们就取前9个特征"
   ]
  },
  {
   "cell_type": "code",
   "execution_count": 19,
   "metadata": {},
   "outputs": [],
   "source": [
    "from sklearn.feature_selection import RFE\n",
    "rfe_dos = RFE(estimator=Dos_clf, n_features_to_select=14, step=1)\n",
    "rfe_dos.fit(X_DoS, Y_DoS)\n",
    "X_rfeDoS=rfe_dos.transform(X_DoS)\n",
    "true=rfe_dos.support_\n",
    "rfecolindex_DoS=[i for i, x in enumerate(true) if x]\n",
    "rfecolname_DoS=list(colNames[i] for i in rfecolindex_DoS)"
   ]
  },
  {
   "cell_type": "markdown",
   "metadata": {},
   "source": [
    "## Probe"
   ]
  },
  {
   "cell_type": "code",
   "execution_count": 20,
   "metadata": {},
   "outputs": [
    {
     "data": {
      "text/plain": [
       "RFECV(cv=10,\n",
       "   estimator=DecisionTreeClassifier(class_weight={0: 1, 2: 57.775}, criterion='gini',\n",
       "            max_depth=None, max_features=None, max_leaf_nodes=None,\n",
       "            min_impurity_decrease=0.0, min_impurity_split=None,\n",
       "            min_samples_leaf=1, min_samples_split=2,\n",
       "            min_weight_fraction_leaf=0.0, presort=False, random_state=0,\n",
       "            splitter='best'),\n",
       "   n_jobs=1, scoring='accuracy', step=1, verbose=0)"
      ]
     },
     "execution_count": 20,
     "metadata": {},
     "output_type": "execute_result"
    }
   ],
   "source": [
    "class_weights={0:1,2:57.775}\n",
    "Probe_clf = DecisionTreeClassifier(random_state=0,class_weight=class_weights)\n",
    "\n",
    "rfecv_probe = RFECV(estimator=Probe_clf,step=1,cv=10,scoring='accuracy')\n",
    "rfecv_probe.fit(X_Probe, Y_Probe)\n",
    "\n"
   ]
  },
  {
   "cell_type": "code",
   "execution_count": 21,
   "metadata": {},
   "outputs": [
    {
     "name": "stdout",
     "output_type": "stream",
     "text": [
      "Optimal number of features : 122\n",
      "Ranking of features : [1 1 1 1 1 1 1 1 1 1 1 1 1 1 1 1 1 1 1 1 1 1 1 1 1 1 1 1 1 1 1 1 1 1 1 1 1\n",
      " 1 1 1 1 1 1 1 1 1 1 1 1 1 1 1 1 1 1 1 1 1 1 1 1 1 1 1 1 1 1 1 1 1 1 1 1 1\n",
      " 1 1 1 1 1 1 1 1 1 1 1 1 1 1 1 1 1 1 1 1 1 1 1 1 1 1 1 1 1 1 1 1 1 1 1 1 1\n",
      " 1 1 1 1 1 1 1 1 1 1 1]\n"
     ]
    }
   ],
   "source": [
    "print(\"Optimal number of features : %d\" % rfecv_probe.n_features_)\n",
    "print(\"Ranking of features : %s\" % rfecv_probe.ranking_)"
   ]
  },
  {
   "cell_type": "code",
   "execution_count": 22,
   "metadata": {},
   "outputs": [
    {
     "data": {
      "image/png": "[encoded data removed]",
      "text/plain": [
       "<matplotlib.figure.Figure at 0x261741eea90>"
      ]
     },
     "metadata": {
      "needs_background": "light"
     },
     "output_type": "display_data"
    }
   ],
   "source": [
    "# Plot number of features VS. cross-validation scores\n",
    "plt.figure()\n",
    "plt.xlabel(\"Number of features selected\")\n",
    "plt.ylabel(\"Cross validation score (nb of correct classifications)\")\n",
    "plt.title('RFECV Probe')\n",
    "plt.plot(range(1, len(rfecv_probe.grid_scores_) + 1), rfecv_probe.grid_scores_)\n",
    "plt.show()"
   ]
  },
  {
   "cell_type": "code",
   "execution_count": 23,
   "metadata": {},
   "outputs": [
    {
     "name": "stdout",
     "output_type": "stream",
     "text": [
      "[0.83633967 0.95544245 0.98240603 0.99358233 0.99498733 0.99729109\n",
      " 0.9983924  0.99834175 0.99844302 0.99855695 0.99863292 0.99870885\n",
      " 0.99870884 0.9987215  0.99875947 0.99874681 0.99873415 0.99879745\n",
      " 0.99888608 0.99881013 0.99882279 0.99879747 0.99874683 0.99874682\n",
      " 0.99881012 0.99872151 0.99883543 0.99875948 0.99886075 0.99898733\n",
      " 0.99893671 0.99898735 0.99897469 0.99905063 0.99910128 0.99905064\n",
      " 0.99913924 0.99911392 0.99911393 0.9991519  0.9991519  0.99917722\n",
      " 0.99908861 0.99912659 0.99910126 0.99918987 0.99918988 0.99910126\n",
      " 0.99912658 0.99911393 0.99920253 0.99920253 0.99912658 0.99913924\n",
      " 0.99916456 0.99913924 0.99913924 0.99916456 0.99912658 0.9991519\n",
      " 0.99911393 0.99911392 0.9990886  0.99920253 0.99908861 0.99916456\n",
      " 0.99910127 0.9991519  0.99911392 0.99910127 0.99908861 0.99911394\n",
      " 0.99913925 0.99918988 0.99910127 0.99913924 0.99905063 0.99912658\n",
      " 0.9990886  0.99915189 0.99917721 0.99913924 0.99907595 0.99917721\n",
      " 0.99921519 0.99902531 0.99915189 0.99911393 0.99907595 0.99912658\n",
      " 0.99913924 0.99912658 0.99911392 0.99917721 0.99913923 0.99916456\n",
      " 0.9991519  0.9991519  0.99912658 0.99911393 0.99910126 0.9991519\n",
      " 0.99917722 0.99908861 0.9990886  0.99905063 0.9991519  0.99913924\n",
      " 0.99921518 0.9990886  0.99911393 0.99910126 0.99911392 0.99911393\n",
      " 0.9991519  0.99913924 0.99913924 0.99915189 0.99916456 0.99906329\n",
      " 0.99917722 0.99921519]\n"
     ]
    }
   ],
   "source": [
    "print(rfecv_probe.grid_scores_)"
   ]
  },
  {
   "cell_type": "markdown",
   "metadata": {},
   "source": [
    "可以观察到，在12个特征左右"
   ]
  },
  {
   "cell_type": "code",
   "execution_count": 24,
   "metadata": {},
   "outputs": [],
   "source": [
    "rfe_probe = RFE(estimator=Probe_clf, n_features_to_select=12, step=1)\n",
    "rfe_probe.fit(X_Probe, Y_Probe)\n",
    "X_rfeProbe=rfe_probe.transform(X_Probe)\n",
    "true=rfe_probe.support_\n",
    "rfecolindex_Probe=[i for i, x in enumerate(true) if x]\n",
    "rfecolname_Probe=list(colNames[i] for i in rfecolindex_Probe)\n"
   ]
  },
  {
   "cell_type": "markdown",
   "metadata": {},
   "source": [
    "## R2L"
   ]
  },
  {
   "cell_type": "code",
   "execution_count": 25,
   "metadata": {},
   "outputs": [
    {
     "data": {
      "text/plain": [
       "RFECV(cv=10,\n",
       "   estimator=DecisionTreeClassifier(class_weight={0: 1, 3: 676.8}, criterion='gini',\n",
       "            max_depth=None, max_features=None, max_leaf_nodes=None,\n",
       "            min_impurity_decrease=0.0, min_impurity_split=None,\n",
       "            min_samples_leaf=1, min_samples_split=2,\n",
       "            min_weight_fraction_leaf=0.0, presort=False, random_state=0,\n",
       "            splitter='best'),\n",
       "   n_jobs=1, scoring='accuracy', step=1, verbose=0)"
      ]
     },
     "execution_count": 25,
     "metadata": {},
     "output_type": "execute_result"
    }
   ],
   "source": [
    "class_weights={0:1,3:676.8}\n",
    "R2L_clf = DecisionTreeClassifier(random_state=0,class_weight=class_weights)\n",
    "\n",
    "rfecv_r2l = RFECV(estimator=R2L_clf,step=1,cv=10,scoring='accuracy')\n",
    "rfecv_r2l.fit(X_R2L, Y_R2L)"
   ]
  },
  {
   "cell_type": "code",
   "execution_count": 26,
   "metadata": {},
   "outputs": [
    {
     "name": "stdout",
     "output_type": "stream",
     "text": [
      "Optimal number of features : 14\n",
      "Ranking of features : [  1   1   1  35  32  30   2  28   1  15   1  46   7  19  27  13  47  41\n",
      "  48   1   4  55  38  67  68  16  58  25  10   1  20   1   9  12  14  29\n",
      "   8   1  87   1 100   6  17  95 108   3  97 101 103 105  88  73  75  77\n",
      "  79  81  83  89  91   1  18  51  50  65  52   1  54  64  69  44  34  57\n",
      "  61  60  99  59  63  56  66  71  37  33  76  94  78  31  86  82   5  85\n",
      "  22 102 104  98  23   1  92  96  70  53  74   1  93  90  11  84  62  45\n",
      "  80  49  72  24  36  43  39  40  42  21  26 106 107 109]\n"
     ]
    }
   ],
   "source": [
    "print(\"Optimal number of features : %d\" % rfecv_r2l.n_features_)\n",
    "print(\"Ranking of features : %s\" % rfecv_r2l.ranking_)"
   ]
  },
  {
   "cell_type": "code",
   "execution_count": 27,
   "metadata": {},
   "outputs": [
    {
     "data": {
      "image/png": "[encoded data removed]",
      "text/plain": [
       "<matplotlib.figure.Figure at 0x26172eb2908>"
      ]
     },
     "metadata": {
      "needs_background": "light"
     },
     "output_type": "display_data"
    }
   ],
   "source": [
    "# Plot number of features VS. cross-validation scores\n",
    "plt.figure()\n",
    "plt.xlabel(\"Number of features selected\")\n",
    "plt.ylabel(\"Cross validation score (nb of correct classifications)\")\n",
    "plt.title('RFECV R2L')\n",
    "plt.plot(range(1, len(rfecv_r2l.grid_scores_) + 1), rfecv_r2l.grid_scores_)\n",
    "plt.show()"
   ]
  },
  {
   "cell_type": "code",
   "execution_count": 28,
   "metadata": {},
   "outputs": [
    {
     "name": "stdout",
     "output_type": "stream",
     "text": [
      "[0.71648281 0.95083339 0.97455409 0.9804656  0.98226543 0.98732815\n",
      " 0.99389815 0.99723437 0.99786358 0.99833186 0.99837576 0.99874158\n",
      " 0.99882936 0.99901959 0.99897571 0.99896109 0.99885864 0.99893181\n",
      " 0.99884403 0.99871234 0.99859524 0.9987123  0.99868304 0.99874157\n",
      " 0.99888792 0.99885865 0.99869769 0.99871231 0.99869768 0.99868305\n",
      " 0.99868305 0.99863915 0.99862451 0.99852207 0.9985367  0.99855134\n",
      " 0.99855134 0.99860987 0.99843426 0.99843426 0.99859523 0.99853671\n",
      " 0.99852207 0.99841963 0.99855132 0.99850744 0.99852207 0.99853671\n",
      " 0.99855134 0.99852208 0.99852207 0.99844891 0.99850743 0.99852208\n",
      " 0.99846354 0.9984928  0.99856597 0.9985806  0.99847819 0.99846354\n",
      " 0.9985367  0.99850745 0.99847817 0.99850744 0.99855134 0.99850744\n",
      " 0.99855134 0.99859524 0.99853672 0.99844889 0.99852207 0.99853671\n",
      " 0.9985367  0.99849282 0.99847818 0.99846354 0.99855134 0.99859524\n",
      " 0.99850744 0.99852205 0.99847818 0.99850744 0.99844891 0.99852206\n",
      " 0.99852207 0.99846354 0.99859523 0.99846354 0.99850744 0.99847818\n",
      " 0.99846355 0.99852206 0.99856598 0.99856598 0.99855135 0.99844891\n",
      " 0.99844891 0.99859523 0.99856598 0.99852209 0.99846354 0.99841963\n",
      " 0.9985367  0.99850744 0.99847817 0.99852208 0.99847817 0.99850744\n",
      " 0.99856597 0.99847817 0.9985806  0.99850743 0.99850743 0.99846354\n",
      " 0.9985806  0.99850745 0.99859525 0.99850744 0.99856597 0.99855134\n",
      " 0.99856597 0.99860986]\n"
     ]
    }
   ],
   "source": [
    "print(rfecv_r2l.grid_scores_)"
   ]
  },
  {
   "cell_type": "markdown",
   "metadata": {},
   "source": [
    "14个左右"
   ]
  },
  {
   "cell_type": "code",
   "execution_count": 29,
   "metadata": {},
   "outputs": [],
   "source": [
    "rfe_r2l = RFE(estimator=R2L_clf, n_features_to_select=14, step=1)\n",
    "rfe_r2l.fit(X_R2L, Y_R2L)\n",
    "X_rfer2l=rfe_r2l.transform(X_R2L)\n",
    "true=rfe_r2l.support_\n",
    "rfecolindex_r2l=[i for i, x in enumerate(true) if x]\n",
    "rfecolname_r2l=list(colNames[i] for i in rfecolindex_r2l)"
   ]
  },
  {
   "cell_type": "markdown",
   "metadata": {},
   "source": [
    "## U2R"
   ]
  },
  {
   "cell_type": "code",
   "execution_count": 30,
   "metadata": {},
   "outputs": [
    {
     "data": {
      "text/plain": [
       "RFECV(cv=10,\n",
       "   estimator=DecisionTreeClassifier(class_weight={0: 1, 4: 12950}, criterion='gini',\n",
       "            max_depth=None, max_features=None, max_leaf_nodes=None,\n",
       "            min_impurity_decrease=0.0, min_impurity_split=None,\n",
       "            min_samples_leaf=1, min_samples_split=2,\n",
       "            min_weight_fraction_leaf=0.0, presort=False, random_state=0,\n",
       "            splitter='best'),\n",
       "   n_jobs=1, scoring='accuracy', step=1, verbose=0)"
      ]
     },
     "execution_count": 30,
     "metadata": {},
     "output_type": "execute_result"
    }
   ],
   "source": [
    "class_weights={0:1,4:12950}\n",
    "U2R_clf = DecisionTreeClassifier(random_state=0,class_weight=class_weights)\n",
    "\n",
    "rfecv_u2r = RFECV(estimator=U2R_clf,step=1,cv=10,scoring='accuracy')\n",
    "rfecv_u2r.fit(X_U2R, Y_U2R)"
   ]
  },
  {
   "cell_type": "code",
   "execution_count": 31,
   "metadata": {},
   "outputs": [
    {
     "name": "stdout",
     "output_type": "stream",
     "text": [
      "Optimal number of features : 18\n",
      "Ranking of features : [  1   1   1  22  21  19  17  12  30   8  33  35  27  25  42  16  44  46\n",
      "   1  48   1  47  49  14  51  63  18  68   4   1  62   5  64  11   1   6\n",
      "   7   1   1   1  86  88  10  65  69   1  73  75  77  79  81  83   2   1\n",
      "  93  95  97  99 101   1 105 104  37  43  41   1  45  57  56  13  28  23\n",
      "  31  24  26  32  78  34  61  36  67  66  58  59   1  76  74  29   1  85\n",
      "   1  87  84  50  53   1  52   9  70  60  82  80  71  72   3  54  55  20\n",
      "  39  38  40  15  89  90  91  92  94  96  98 100 102 103]\n"
     ]
    }
   ],
   "source": [
    "print(\"Optimal number of features : %d\" % rfecv_u2r.n_features_)\n",
    "print(\"Ranking of features : %s\" % rfecv_u2r.ranking_)"
   ]
  },
  {
   "cell_type": "code",
   "execution_count": 32,
   "metadata": {},
   "outputs": [
    {
     "data": {
      "image/png": "[encoded data removed]",
      "text/plain": [
       "<matplotlib.figure.Figure at 0x2610689b668>"
      ]
     },
     "metadata": {
      "needs_background": "light"
     },
     "output_type": "display_data"
    }
   ],
   "source": [
    "# Plot number of features VS. cross-validation scores\n",
    "plt.figure()\n",
    "plt.xlabel(\"Number of features selected\")\n",
    "plt.ylabel(\"Cross validation score (nb of correct classifications)\")\n",
    "plt.title('RFECV U2R')\n",
    "plt.plot(range(1, len(rfecv_u2r.grid_scores_) + 1), rfecv_u2r.grid_scores_)\n",
    "plt.show()"
   ]
  },
  {
   "cell_type": "code",
   "execution_count": 33,
   "metadata": {},
   "outputs": [
    {
     "name": "stdout",
     "output_type": "stream",
     "text": [
      "[0.91714536 0.98535452 0.9880254  0.99488096 0.99724009 0.99832327\n",
      " 0.998531   0.99903553 0.99915424 0.99931746 0.99928778 0.99928778\n",
      " 0.99949551 0.99948068 0.99946583 0.99954002 0.99949552 0.99955487\n",
      " 0.99949552 0.99951035 0.99955486 0.99946583 0.9994955  0.99943615\n",
      " 0.99943615 0.99942132 0.99942132 0.999451   0.99946584 0.99955487\n",
      " 0.99951035 0.99949551 0.99942131 0.99948067 0.99948067 0.99943615\n",
      " 0.99952518 0.99948067 0.99952518 0.99951034 0.99948067 0.99943615\n",
      " 0.9994955  0.99949551 0.99945099 0.99946583 0.99951034 0.99948067\n",
      " 0.99946583 0.99945099 0.99946583 0.99945099 0.99946583 0.99945099\n",
      " 0.99948067 0.9994955  0.99948067 0.9994955  0.99945099 0.99952518\n",
      " 0.99946583 0.9994955  0.99946583 0.99946583 0.99945099 0.99948067\n",
      " 0.99945099 0.99946583 0.99949551 0.99946583 0.99946583 0.99948067\n",
      " 0.99951034 0.99945099 0.99951034 0.99948067 0.99945099 0.99945099\n",
      " 0.99949551 0.99948067 0.99945099 0.99952518 0.99948067 0.99949551\n",
      " 0.9994955  0.9994955  0.99948067 0.99948067 0.99948067 0.99946583\n",
      " 0.99951034 0.99948067 0.99948067 0.99945099 0.99945099 0.99946583\n",
      " 0.9994955  0.9994955  0.99951035 0.99946583 0.99948067 0.99946583\n",
      " 0.99952518 0.99943615 0.99946583 0.99948067 0.99946583 0.99952518\n",
      " 0.99942131 0.99954002 0.9994955  0.99952518 0.9994955  0.9994955\n",
      " 0.99951034 0.99951034 0.99948067 0.9994955  0.99948067 0.99946583\n",
      " 0.99946583 0.99946583]\n"
     ]
    }
   ],
   "source": [
    "print(rfecv_u2r.grid_scores_)"
   ]
  },
  {
   "cell_type": "markdown",
   "metadata": {},
   "source": [
    "9个特征左右"
   ]
  },
  {
   "cell_type": "code",
   "execution_count": 34,
   "metadata": {},
   "outputs": [],
   "source": [
    "rfe_u2r = RFE(estimator=U2R_clf, n_features_to_select=9, step=1)\n",
    "rfe_u2r.fit(X_U2R, Y_U2R)\n",
    "X_rfeu2r=rfe_u2r.transform(X_U2R)\n",
    "true=rfe_u2r.support_\n",
    "rfecolindex_u2r=[i for i, x in enumerate(true) if x]\n",
    "rfecolname_u2r=list(colNames[i] for i in rfecolindex_u2r)"
   ]
  },
  {
   "cell_type": "markdown",
   "metadata": {},
   "source": [
    "## Normal"
   ]
  },
  {
   "cell_type": "code",
   "execution_count": 35,
   "metadata": {},
   "outputs": [
    {
     "name": "stdout",
     "output_type": "stream",
     "text": [
      "Optimal number of features : 113\n",
      "Ranking of features : [ 1  1  1  1  1  1  1  1  1  1  1  1  1  1  1  1  1  1  1  1  1  1  6  1\n",
      "  1  1  1  1  1  1  1  1  1  1  1  1  1  1  1  1  1  1  1  1  1  1  1  1\n",
      "  1  1  8  1  9  7  1  1  1  1  1  1  1  1  1  4  1  1  1  1  1  1  1  1\n",
      "  1  1  1  1  1  1  1  5  1  1  1  1  1  1  1  1  1  1  1  1  1  1  2 10\n",
      "  1  1  1  1  1  1  1  1  1  3  1  1  1  1  1  1  1  1  1  1  1  1  1  1\n",
      "  1  1]\n"
     ]
    }
   ],
   "source": [
    "class_weights={0:10,1:1,2:1,3:1,4:1}\n",
    "clf = DecisionTreeClassifier(random_state=0,class_weight=class_weights)\n",
    "rfecv = RFECV(estimator=clf,step=1,cv=10,scoring='accuracy')\n",
    "rfecv.fit(X, Y)\n",
    "\n",
    "print(\"Optimal number of features : %d\" % rfecv.n_features_)\n",
    "print(\"Ranking of features : %s\" % rfecv.ranking_)"
   ]
  },
  {
   "cell_type": "code",
   "execution_count": 36,
   "metadata": {},
   "outputs": [
    {
     "data": {
      "image/png": "[encoded data removed]",
      "text/plain": [
       "<matplotlib.figure.Figure at 0x261068b22e8>"
      ]
     },
     "metadata": {
      "needs_background": "light"
     },
     "output_type": "display_data"
    }
   ],
   "source": [
    "# Plot number of features VS. cross-validation scores\n",
    "plt.figure()\n",
    "plt.xlabel(\"Number of features selected\")\n",
    "plt.ylabel(\"Cross validation score (nb of correct classifications)\")\n",
    "plt.title('RFECV Normal')\n",
    "plt.plot(range(1, len(rfecv.grid_scores_) + 1), rfecv.grid_scores_)\n",
    "plt.show()"
   ]
  },
  {
   "cell_type": "code",
   "execution_count": 37,
   "metadata": {},
   "outputs": [
    {
     "name": "stdout",
     "output_type": "stream",
     "text": [
      "[0.80305297 0.89568389 0.98566363 0.98712428 0.99088701 0.99108547\n",
      " 0.99137918 0.99160939 0.99187928 0.99444344 0.99660259 0.99732488\n",
      " 0.99752331 0.99753917 0.99760267 0.99774557 0.99788843 0.99790433\n",
      " 0.99766619 0.99767414 0.99783291 0.99775352 0.99787259 0.99797578\n",
      " 0.99788053 0.99795195 0.99793608 0.99789641 0.9979758  0.99799961\n",
      " 0.99786466 0.99792814 0.99784083 0.99792019 0.99797578 0.99793609\n",
      " 0.99792814 0.99792814 0.99793609 0.99802341 0.99789638 0.99793609\n",
      " 0.99796785 0.99795195 0.99796784 0.99790434 0.99790435 0.99795991\n",
      " 0.99799961 0.99792816 0.99799165 0.99792021 0.99804723 0.99792815\n",
      " 0.9979996  0.99788847 0.99790435 0.99797577 0.99794402 0.99807898\n",
      " 0.9981266  0.99803928 0.99797576 0.99797578 0.99801545 0.99804721\n",
      " 0.99798369 0.9980631  0.99798371 0.99804722 0.99795194 0.99806309\n",
      " 0.99813453 0.99801547 0.99814248 0.99810281 0.99809486 0.99808691\n",
      " 0.9981663  0.99811073 0.99818218 0.9980393  0.99807898 0.99819805\n",
      " 0.9980631  0.99815835 0.99811073 0.99820599 0.99817423 0.99817424\n",
      " 0.99807899 0.99816629 0.99808691 0.99820598 0.99808693 0.99817423\n",
      " 0.99815836 0.99812661 0.99814247 0.99809485 0.99815836 0.99810278\n",
      " 0.99814248 0.99820598 0.99815836 0.99817423 0.99817423 0.99813455\n",
      " 0.99813455 0.99811074 0.9981266  0.99813455 0.9982298  0.99807104\n",
      " 0.99819012 0.99808692 0.99816629 0.99817424 0.99817424 0.99819011\n",
      " 0.99809486 0.99815042]\n"
     ]
    }
   ],
   "source": [
    "print(rfecv.grid_scores_)"
   ]
  },
  {
   "cell_type": "code",
   "execution_count": 38,
   "metadata": {},
   "outputs": [],
   "source": [
    "from sklearn.feature_selection import RFE\n",
    "\n",
    "\n",
    "rfe_normal = RFE(estimator=clf, n_features_to_select=18, step=1)\n",
    "rfe_normal.fit(X, Y)\n",
    "X_rfe=rfe_normal.transform(X)\n",
    "true=rfe_normal.support_\n",
    "rfecolindex_normal=[i for i, x in enumerate(true) if x]\n",
    "rfecolname_normal=list(colNames[i] for i in rfecolindex_normal)"
   ]
  },
  {
   "cell_type": "code",
   "execution_count": 39,
   "metadata": {},
   "outputs": [
    {
     "name": "stdout",
     "output_type": "stream",
     "text": [
      "Features selected for DoS: ['src_bytes', 'dst_bytes', 'wrong_fragment', 'logged_in', 'count', 'dst_host_srv_count', 'dst_host_same_src_port_rate', 'dst_host_serror_rate', 'dst_host_rerror_rate', 'service_domain_u', 'service_eco_i', 'service_ecr_i', 'service_http', 'service_urp_i']\n",
      "\n",
      "Features selected for Probe: ['src_bytes', 'dst_bytes', 'count', 'dst_host_count', 'dst_host_same_srv_rate', 'dst_host_diff_srv_rate', 'dst_host_same_src_port_rate', 'dst_host_rerror_rate', 'service_http', 'service_pm_dump', 'service_private', 'flag_SF']\n",
      "\n",
      "Features selected for R2L: ['duration', 'src_bytes', 'dst_bytes', 'logged_in', 'root_shell', 'count', 'dst_host_srv_count', 'dst_host_diff_srv_rate', 'dst_host_srv_rerror_rate', 'Protocol_type_tcp', 'service_finger', 'service_http', 'service_smtp', 'service_telnet']\n",
      "\n",
      "Features selected for U2R: ['duration', 'src_bytes', 'is_guest_login', 'srv_count', 'dst_host_srv_count', 'dst_host_serror_rate', 'Protocol_type_icmp', 'service_http', 'service_smtp']\n",
      "\n",
      "Features selected for NORMAL: ['src_bytes', 'dst_bytes', 'wrong_fragment', 'num_compromised', 'count', 'same_srv_rate', 'dst_host_count', 'dst_host_same_srv_rate', 'dst_host_diff_srv_rate', 'dst_host_same_src_port_rate', 'dst_host_srv_serror_rate', 'dst_host_rerror_rate', 'service_eco_i', 'service_ecr_i', 'service_private', 'flag_RSTR', 'flag_S0', 'flag_SH']\n"
     ]
    }
   ],
   "source": [
    "print('Features selected for DoS:',rfecolname_DoS)\n",
    "print()\n",
    "print('Features selected for Probe:',rfecolname_Probe)\n",
    "print()\n",
    "print('Features selected for R2L:',rfecolname_r2l)\n",
    "print()\n",
    "print('Features selected for U2R:',rfecolname_u2r)\n",
    "print()\n",
    "print('Features selected for NORMAL:',rfecolname_normal)"
   ]
  },
  {
   "cell_type": "code",
   "execution_count": 72,
   "metadata": {},
   "outputs": [
    {
     "name": "stdout",
     "output_type": "stream",
     "text": [
      "column列表中的项数为: 30\n"
     ]
    }
   ],
   "source": [
    "combined_features_list=['duration', 'wrong_fragment', 'dst_host_rerror_rate', 'srv_count',\n",
    "                        'service_private', 'service_domain_u', 'service_smtp', 'service_ecr_i', 'dst_host_same_srv_rate', 'dst_host_count', \n",
    "                        'flag_SF', 'service_telnet', 'is_guest_login', 'service_pm_dump', 'root_shell', 'dst_host_serror_rate', 'Protocol_type_tcp',\n",
    "                        'Protocol_type_icmp', 'src_bytes', 'service_eco_i', 'service_finger',\n",
    "                        'dst_bytes', 'dst_host_srv_rerror_rate', 'service_urp_i', 'logged_in', 'dst_host_same_src_port_rate', \n",
    "                        'dst_host_srv_count', 'dst_host_diff_srv_rate', 'count', 'service_http']\n",
    "# 计算列表长度\n",
    "num_items = len(combined_features_list)\n",
    "\n",
    "# 输出列表中的项数\n",
    "print(\"column列表中的项数为:\", num_items)"
   ]
  },
  {
   "cell_type": "code",
   "execution_count": 73,
   "metadata": {},
   "outputs": [],
   "source": [
    "# 将数据集分割为特征（X）和目标变量（Y）\n",
    "# assign X as a dataframe of feautures and Y as a series of outcome variables\n",
    "X_RFE = newdf[combined_features_list]\n",
    "Y_RFE = newdf.label\n",
    "\n",
    "X_test_RFE = newdf_test[combined_features_list]\n",
    "Y_test_RFE = newdf_test.label\n",
    "#colNames 就是一个包含 X 中所有列名称的列表\n",
    "colNames=list(X_RFE)"
   ]
  },
  {
   "cell_type": "code",
   "execution_count": 74,
   "metadata": {},
   "outputs": [
    {
     "data": {
      "text/plain": [
       "['duration',\n",
       " 'wrong_fragment',\n",
       " 'dst_host_rerror_rate',\n",
       " 'srv_count',\n",
       " 'service_private',\n",
       " 'service_domain_u',\n",
       " 'service_smtp',\n",
       " 'service_ecr_i',\n",
       " 'dst_host_same_srv_rate',\n",
       " 'dst_host_count',\n",
       " 'flag_SF',\n",
       " 'service_telnet',\n",
       " 'is_guest_login',\n",
       " 'service_pm_dump',\n",
       " 'root_shell',\n",
       " 'dst_host_serror_rate',\n",
       " 'Protocol_type_tcp',\n",
       " 'Protocol_type_icmp',\n",
       " 'src_bytes',\n",
       " 'service_eco_i',\n",
       " 'service_finger',\n",
       " 'dst_bytes',\n",
       " 'dst_host_srv_rerror_rate',\n",
       " 'service_urp_i',\n",
       " 'logged_in',\n",
       " 'dst_host_same_src_port_rate',\n",
       " 'dst_host_srv_count',\n",
       " 'dst_host_diff_srv_rate',\n",
       " 'count',\n",
       " 'service_http']"
      ]
     },
     "execution_count": 74,
     "metadata": {},
     "output_type": "execute_result"
    }
   ],
   "source": [
    "colNames"
   ]
  },
  {
   "cell_type": "code",
   "execution_count": 75,
   "metadata": {},
   "outputs": [],
   "source": [
    "from sklearn import preprocessing\n",
    "#全部特征\n",
    "scaler8 = preprocessing.StandardScaler().fit(X_RFE)\n",
    "X_RFE=scaler8.transform(X_RFE) \n",
    "\n",
    "scaler9 = preprocessing.StandardScaler().fit(X_test_RFE)\n",
    "X_test_RFE=scaler9.transform(X_test_RFE) "
   ]
  },
  {
   "cell_type": "markdown",
   "metadata": {},
   "source": [
    "RFE（递归特征消除）：\n",
    "RFE 是一种特征选择方法，它通过逐步剔除不重要的特征来选择最优的特征子集。\n",
    "在 NSL-KDD 数据集中，您可以使用 RFE 来排除那些对入侵检测任务不太相关的特征。\n",
    "PCA（主成分分析）：\n",
    "PCA 是一种降维技术，它将高维数据映射到低维空间，保留最重要的特征。\n",
    "在 NSL-KDD 数据集中，您可以使用 PCA 来减少特征的维度，同时保留数据的主要信息。\n",
    "结合方法：\n",
    "首先，使用 RFE 从 NSL-KDD 数据集中选择一部分特征，这些特征对入侵检测任务有较高的相关性。\n",
    "然后，将选定的特征输入到 PCA 中，将其映射到低维空间。\n",
    "最终，您将得到一个具有较少特征且保留主要信息的数据集。"
   ]
  },
  {
   "cell_type": "code",
   "execution_count": 76,
   "metadata": {},
   "outputs": [
    {
     "name": "stdout",
     "output_type": "stream",
     "text": [
      "训练时间: 0.57 秒\n"
     ]
    }
   ],
   "source": [
    "from sklearn.tree import DecisionTreeClassifier\n",
    "start_time = time.time()\n",
    "\n",
    "clf=DecisionTreeClassifier(random_state=0)\n",
    "clf.fit(X_RFE, Y_RFE)\n",
    "end_time = time.time()\n",
    "# 计算执行时间\n",
    "training_time = end_time - start_time\n",
    "print(f\"训练时间: {training_time:.2f} 秒\")"
   ]
  },
  {
   "cell_type": "code",
   "execution_count": 77,
   "metadata": {},
   "outputs": [
    {
     "data": {
      "text/html": [
       "<div>\n",
       "<style scoped>\n",
       "    .dataframe tbody tr th:only-of-type {\n",
       "        vertical-align: middle;\n",
       "    }\n",
       "\n",
       "    .dataframe tbody tr th {\n",
       "        vertical-align: top;\n",
       "    }\n",
       "\n",
       "    .dataframe thead th {\n",
       "        text-align: right;\n",
       "    }\n",
       "</style>\n",
       "<table border=\"1\" class=\"dataframe\">\n",
       "  <thead>\n",
       "    <tr style=\"text-align: right;\">\n",
       "      <th>Predicted attacks</th>\n",
       "      <th>0</th>\n",
       "      <th>1</th>\n",
       "      <th>2</th>\n",
       "      <th>3</th>\n",
       "      <th>4</th>\n",
       "    </tr>\n",
       "    <tr>\n",
       "      <th>Actual attacks</th>\n",
       "      <th></th>\n",
       "      <th></th>\n",
       "      <th></th>\n",
       "      <th></th>\n",
       "      <th></th>\n",
       "    </tr>\n",
       "  </thead>\n",
       "  <tbody>\n",
       "    <tr>\n",
       "      <th>0</th>\n",
       "      <td>9537</td>\n",
       "      <td>29</td>\n",
       "      <td>25</td>\n",
       "      <td>106</td>\n",
       "      <td>14</td>\n",
       "    </tr>\n",
       "    <tr>\n",
       "      <th>1</th>\n",
       "      <td>19</td>\n",
       "      <td>7424</td>\n",
       "      <td>11</td>\n",
       "      <td>3</td>\n",
       "      <td>1</td>\n",
       "    </tr>\n",
       "    <tr>\n",
       "      <th>2</th>\n",
       "      <td>28</td>\n",
       "      <td>7</td>\n",
       "      <td>2372</td>\n",
       "      <td>4</td>\n",
       "      <td>10</td>\n",
       "    </tr>\n",
       "    <tr>\n",
       "      <th>3</th>\n",
       "      <td>127</td>\n",
       "      <td>2</td>\n",
       "      <td>5</td>\n",
       "      <td>2604</td>\n",
       "      <td>16</td>\n",
       "    </tr>\n",
       "    <tr>\n",
       "      <th>4</th>\n",
       "      <td>12</td>\n",
       "      <td>0</td>\n",
       "      <td>3</td>\n",
       "      <td>16</td>\n",
       "      <td>169</td>\n",
       "    </tr>\n",
       "  </tbody>\n",
       "</table>\n",
       "</div>"
      ],
      "text/plain": [
       "Predicted attacks     0     1     2     3    4\n",
       "Actual attacks                                \n",
       "0                  9537    29    25   106   14\n",
       "1                    19  7424    11     3    1\n",
       "2                    28     7  2372     4   10\n",
       "3                   127     2     5  2604   16\n",
       "4                    12     0     3    16  169"
      ]
     },
     "execution_count": 77,
     "metadata": {},
     "output_type": "execute_result"
    }
   ],
   "source": [
    "from sklearn.model_selection import cross_val_predict\n",
    "from sklearn.metrics import confusion_matrix\n",
    "# 使用 cross_val_predict 进行交叉验证预测\n",
    "y_pred = cross_val_predict(clf, X_test_RFE, Y_test_RFE, cv=10)\n",
    "\n",
    "# 混淆矩阵\n",
    "pd.crosstab(Y_test_RFE, y_pred, rownames=['Actual attacks'], colnames=['Predicted attacks'])\n",
    "\n"
   ]
  },
  {
   "cell_type": "code",
   "execution_count": 78,
   "metadata": {},
   "outputs": [
    {
     "name": "stdout",
     "output_type": "stream",
     "text": [
      "             precision    recall  f1-score   support\n",
      "\n",
      "          0      0.981     0.982     0.981      9711\n",
      "          1      0.995     0.995     0.995      7458\n",
      "          2      0.982     0.980     0.981      2421\n",
      "          3      0.953     0.946     0.949      2754\n",
      "          4      0.805     0.845     0.824       200\n",
      "\n",
      "avg / total      0.981     0.981     0.981     22544\n",
      "\n"
     ]
    }
   ],
   "source": [
    "from sklearn.metrics import confusion_matrix,classification_report,accuracy_score,roc_auc_score,f1_score\n",
    "print(classification_report(Y_test_RFE, y_pred, digits=3))"
   ]
  },
  {
   "cell_type": "code",
   "execution_count": 80,
   "metadata": {},
   "outputs": [
    {
     "name": "stdout",
     "output_type": "stream",
     "text": [
      "                  Accuracy\n",
      "0                 0.982082\n",
      "1                 0.995441\n",
      "2                 0.979760\n",
      "3                 0.945534\n",
      "4                 0.845000\n",
      "Overall Accuracy  0.980571\n"
     ]
    }
   ],
   "source": [
    "from sklearn.metrics import confusion_matrix\n",
    "\n",
    "# 计算混淆矩阵\n",
    "conf_matrix = confusion_matrix(Y_test_RFE, y_pred)\n",
    "\n",
    "# 提取各分类的真正例、假正例、真负例、假负例\n",
    "true_positives = np.diag(conf_matrix)\n",
    "false_positives = np.sum(conf_matrix, axis=0) - true_positives\n",
    "false_negatives = np.sum(conf_matrix, axis=1) - true_positives\n",
    "true_negatives = np.sum(conf_matrix) - (true_positives + false_positives + false_negatives)\n",
    "\n",
    "# 计算各分类的准确率\n",
    "class_accuracies = true_positives / (true_positives + false_negatives)\n",
    "\n",
    "# 将整体准确率加入到列表中\n",
    "overall_accuracy = np.sum(true_positives) / np.sum(conf_matrix)\n",
    "\n",
    "# 创建包含准确率的数据帧\n",
    "index = [str(i) for i in range(len(class_accuracies))] + ['Overall Accuracy']\n",
    "df_ac = pd.DataFrame({'Accuracy': np.append(class_accuracies, overall_accuracy)}, index=index)\n",
    "\n",
    "# 打印数据帧\n",
    "print(df_ac)"
   ]
  },
  {
   "cell_type": "code",
   "execution_count": null,
   "metadata": {},
   "outputs": [],
   "source": []
  },
  {
   "cell_type": "code",
   "execution_count": null,
   "metadata": {},
   "outputs": [],
   "source": []
  },
  {
   "cell_type": "code",
   "execution_count": null,
   "metadata": {},
   "outputs": [],
   "source": []
  }
 ],
 "metadata": {
  "kernelspec": {
   "display_name": "tensorflow",
   "language": "python",
   "name": "python3"
  },
  "language_info": {
   "codemirror_mode": {
    "name": "ipython",
    "version": 3
   },
   "file_extension": ".py",
   "mimetype": "text/x-python",
   "name": "python",
   "nbconvert_exporter": "python",
   "pygments_lexer": "ipython3",
   "version": "3.6.13"
  }
 },
 "nbformat": 4,
 "nbformat_minor": 2
}
